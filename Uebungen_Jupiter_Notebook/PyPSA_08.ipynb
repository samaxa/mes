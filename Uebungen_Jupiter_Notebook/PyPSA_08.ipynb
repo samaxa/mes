{
 "cells": [
  {
   "cell_type": "markdown",
   "id": "ba3246fb",
   "metadata": {},
   "source": [
    "## PyPSA Übung 08"
   ]
  },
  {
   "cell_type": "markdown",
   "id": "40e86d9b",
   "metadata": {},
   "source": [
    "Ihre Aufgabe ist es den deutschen Strommarkt abzubilden, um die Preisbildung zu untersuchen. Implementieren Sie hierzu die verschiedenen Erzeuger, Speicher und Verbraucher mit Hilfe der Ihnen zur Verfügung gestellten Daten aus dem Jahr 2024 und führen Sie eine Betriebspunktoptimierung für das Jahr 2024 durch. Vernachlässigen Sie zunächst den Stromhandel über Ländergrenzen hinweg und vergleichen Sie die Grenzkostenverläufe der Optimierung und des realen Verlaufs. Implementieren Sie darauf den Handel mit Anreinerstaaten und vergleichen Sie die Ergebnisse."
   ]
  },
  {
   "cell_type": "markdown",
   "id": "b88ea4b8",
   "metadata": {},
   "source": [
    "Importieren Sie die Bibliotheken Numpy, Pandas und Pypsa. Bei Bedarf auch die Bibliothek Matplotlib"
   ]
  },
  {
   "cell_type": "code",
   "execution_count": 1,
   "id": "3c086f53-f880-4f11-91f2-4517a54d08fc",
   "metadata": {},
   "outputs": [],
   "source": [
    "import numpy as np\n",
    "import pandas as pd\n",
    "import pypsa\n",
    "import matplotlib.pyplot as plt"
   ]
  },
  {
   "cell_type": "markdown",
   "id": "c8eed132",
   "metadata": {},
   "source": [
    "Gegeben sind einige Daten aus dem Jahr 2024. "
   ]
  },
  {
   "cell_type": "code",
   "execution_count": 2,
   "id": "13e197b9-ece2-47f5-8638-e237e29552f2",
   "metadata": {},
   "outputs": [],
   "source": [
    "#installierte Kapazität zur Stromerzeugung in Deutschland 2024\n",
    "pv_p_nom             = 76600 #MW \n",
    "wind_ons_p_nom       = 59841 #MW \n",
    "wind_offs_p_nom      =  8456 #MW \n",
    "gas_p_nom            = 36255 #MW \n",
    "lignite_p_nom        = 18363 #MW \n",
    "hardcoal_p_nom       = 18411 #MW \n",
    "biomass_p_nom        =  8577 #MW \n",
    "water_p_nom          =  5112 #MW\n",
    "pumped_storage_p_nom =  9449 #MW\n",
    "battery_p_nom        = 13840 #MW\n",
    "\n",
    "#installierte Speicherkapazitäten in Deutschland 2024\n",
    "pumped_storage_e_nom = 37000 #MWh\n",
    "battery_e_nom        = 20330 #MWh\n",
    "\n",
    "#CO2_e-Emissionen\n",
    "gas_co2         = 0.201 #t_CO2/MWh_PE\n",
    "lignite_co2     = 0.399 #t_CO2/MWh_PE\n",
    "hardcoal_co2    = 0.340 #t_CO2/MWh_PE\n",
    "\n",
    "#CO2-Kosten\n",
    "co2_price       =    74 #€/t_CO2\n",
    "\n",
    "#Kraftwerkseffizienzen\n",
    "gas_eff             = 0.55\n",
    "lignite_eff         = 0.38\n",
    "hardcoal_eff        = 0.41\n",
    "biomass_eff         = 0.35\n",
    "pumped_storage_eff  = 0.8  #Entladeeffizienz\n",
    "battery_eff         = 0.89 #roundtrip efficiency\n",
    "\n",
    "#Marginalkosten ((Brennstoffpreis + CO2-Preis) / Effizienz)\n",
    "gas_marginal_cost       = (45  + gas_co2     * co2_price)/gas_eff        #€/MWh_el\n",
    "lignite_marginal_cost   = ( 3  + lignite_co2 * co2_price)/lignite_eff    #€/MWh_el\n",
    "hardcoal_marginal_cost  = (12  + hardcoal_co2* co2_price)/hardcoal_eff   #€/MWh_el\n",
    "biomass_marginal_cost   = (25 / biomass_eff)   #€/MWh_el\n",
    "#Start-up und Shut-down-Zeiten\n",
    "lignite_ramp    = 0.1   # 10h Startup Kaltstart\n",
    "hardcoal_ramp   = 0.14  # 7h Startup Kaltstart\n",
    "gas_ramp        = 1     # 0.5h für Gasturbinen, bis 6h GuD Kaltstart (Hier Gasturbine)\n",
    "biomass_ramp    = 0.5   # ~2h Startup Kaltstart\n",
    "\n",
    "#Teillastbereich der Kraftwerke\n",
    "lignite_p_min_pu    = 0.5\n",
    "hardcoal_p_min_pu   = 0.5\n",
    "gas_p_min_pu        = 0.1\n",
    "biomass_p_min_pu    = 0.3\n"
   ]
  },
  {
   "cell_type": "markdown",
   "id": "73e379e1",
   "metadata": {},
   "source": [
    "Lesen Sie die Inputdaten ein. Diese befinden sich in der Datei 'Data_PyPSA_08.csv'."
   ]
  },
  {
   "cell_type": "code",
   "execution_count": 3,
   "id": "248d4238-cae7-47f5-ad8b-bc5ea9739de0",
   "metadata": {},
   "outputs": [],
   "source": [
    "df_data = pd.read_csv('Data_PyPSA_08.csv')"
   ]
  },
  {
   "cell_type": "code",
   "execution_count": 4,
   "id": "525b51cc-ac44-4c8a-a7cd-e08b8e866805",
   "metadata": {},
   "outputs": [
    {
     "data": {
      "text/html": [
       "<div>\n",
       "<style scoped>\n",
       "    .dataframe tbody tr th:only-of-type {\n",
       "        vertical-align: middle;\n",
       "    }\n",
       "\n",
       "    .dataframe tbody tr th {\n",
       "        vertical-align: top;\n",
       "    }\n",
       "\n",
       "    .dataframe thead th {\n",
       "        text-align: right;\n",
       "    }\n",
       "</style>\n",
       "<table border=\"1\" class=\"dataframe\">\n",
       "  <thead>\n",
       "    <tr style=\"text-align: right;\">\n",
       "      <th></th>\n",
       "      <th>el. load</th>\n",
       "      <th>PV potential</th>\n",
       "      <th>Wind OnS potential</th>\n",
       "      <th>Wind OffS potential</th>\n",
       "      <th>Water potential</th>\n",
       "      <th>German market</th>\n",
       "      <th>Foreign price</th>\n",
       "    </tr>\n",
       "  </thead>\n",
       "  <tbody>\n",
       "    <tr>\n",
       "      <th>0</th>\n",
       "      <td>40170.25</td>\n",
       "      <td>0.0</td>\n",
       "      <td>0.652078</td>\n",
       "      <td>0.783906</td>\n",
       "      <td>0.639487</td>\n",
       "      <td>0.10</td>\n",
       "      <td>21.15</td>\n",
       "    </tr>\n",
       "    <tr>\n",
       "      <th>1</th>\n",
       "      <td>38818.25</td>\n",
       "      <td>0.0</td>\n",
       "      <td>0.637045</td>\n",
       "      <td>0.744237</td>\n",
       "      <td>0.643791</td>\n",
       "      <td>0.01</td>\n",
       "      <td>20.96</td>\n",
       "    </tr>\n",
       "    <tr>\n",
       "      <th>2</th>\n",
       "      <td>37847.75</td>\n",
       "      <td>0.0</td>\n",
       "      <td>0.627693</td>\n",
       "      <td>0.722458</td>\n",
       "      <td>0.650370</td>\n",
       "      <td>0.00</td>\n",
       "      <td>17.73</td>\n",
       "    </tr>\n",
       "    <tr>\n",
       "      <th>3</th>\n",
       "      <td>37123.25</td>\n",
       "      <td>0.0</td>\n",
       "      <td>0.628758</td>\n",
       "      <td>0.659949</td>\n",
       "      <td>0.653131</td>\n",
       "      <td>-0.01</td>\n",
       "      <td>14.59</td>\n",
       "    </tr>\n",
       "    <tr>\n",
       "      <th>4</th>\n",
       "      <td>36753.75</td>\n",
       "      <td>0.0</td>\n",
       "      <td>0.629661</td>\n",
       "      <td>0.624487</td>\n",
       "      <td>0.660359</td>\n",
       "      <td>-0.03</td>\n",
       "      <td>14.23</td>\n",
       "    </tr>\n",
       "    <tr>\n",
       "      <th>...</th>\n",
       "      <td>...</td>\n",
       "      <td>...</td>\n",
       "      <td>...</td>\n",
       "      <td>...</td>\n",
       "      <td>...</td>\n",
       "      <td>...</td>\n",
       "      <td>...</td>\n",
       "    </tr>\n",
       "    <tr>\n",
       "      <th>8779</th>\n",
       "      <td>54382.75</td>\n",
       "      <td>0.0</td>\n",
       "      <td>0.734964</td>\n",
       "      <td>0.544336</td>\n",
       "      <td>0.533339</td>\n",
       "      <td>67.77</td>\n",
       "      <td>72.35</td>\n",
       "    </tr>\n",
       "    <tr>\n",
       "      <th>8780</th>\n",
       "      <td>51189.00</td>\n",
       "      <td>0.0</td>\n",
       "      <td>0.782248</td>\n",
       "      <td>0.530017</td>\n",
       "      <td>0.431170</td>\n",
       "      <td>35.56</td>\n",
       "      <td>62.10</td>\n",
       "    </tr>\n",
       "    <tr>\n",
       "      <th>8781</th>\n",
       "      <td>49336.50</td>\n",
       "      <td>0.0</td>\n",
       "      <td>0.817931</td>\n",
       "      <td>0.516546</td>\n",
       "      <td>0.429059</td>\n",
       "      <td>15.70</td>\n",
       "      <td>42.52</td>\n",
       "    </tr>\n",
       "    <tr>\n",
       "      <th>8782</th>\n",
       "      <td>48491.25</td>\n",
       "      <td>0.0</td>\n",
       "      <td>0.821088</td>\n",
       "      <td>0.532032</td>\n",
       "      <td>0.432713</td>\n",
       "      <td>9.06</td>\n",
       "      <td>39.28</td>\n",
       "    </tr>\n",
       "    <tr>\n",
       "      <th>8783</th>\n",
       "      <td>49235.25</td>\n",
       "      <td>0.0</td>\n",
       "      <td>0.826553</td>\n",
       "      <td>0.551054</td>\n",
       "      <td>0.456103</td>\n",
       "      <td>0.52</td>\n",
       "      <td>34.25</td>\n",
       "    </tr>\n",
       "  </tbody>\n",
       "</table>\n",
       "<p>8784 rows × 7 columns</p>\n",
       "</div>"
      ],
      "text/plain": [
       "      el. load  PV potential  Wind OnS potential  Wind OffS potential  \\\n",
       "0     40170.25           0.0            0.652078             0.783906   \n",
       "1     38818.25           0.0            0.637045             0.744237   \n",
       "2     37847.75           0.0            0.627693             0.722458   \n",
       "3     37123.25           0.0            0.628758             0.659949   \n",
       "4     36753.75           0.0            0.629661             0.624487   \n",
       "...        ...           ...                 ...                  ...   \n",
       "8779  54382.75           0.0            0.734964             0.544336   \n",
       "8780  51189.00           0.0            0.782248             0.530017   \n",
       "8781  49336.50           0.0            0.817931             0.516546   \n",
       "8782  48491.25           0.0            0.821088             0.532032   \n",
       "8783  49235.25           0.0            0.826553             0.551054   \n",
       "\n",
       "      Water potential  German market  Foreign price  \n",
       "0            0.639487           0.10          21.15  \n",
       "1            0.643791           0.01          20.96  \n",
       "2            0.650370           0.00          17.73  \n",
       "3            0.653131          -0.01          14.59  \n",
       "4            0.660359          -0.03          14.23  \n",
       "...               ...            ...            ...  \n",
       "8779         0.533339          67.77          72.35  \n",
       "8780         0.431170          35.56          62.10  \n",
       "8781         0.429059          15.70          42.52  \n",
       "8782         0.432713           9.06          39.28  \n",
       "8783         0.456103           0.52          34.25  \n",
       "\n",
       "[8784 rows x 7 columns]"
      ]
     },
     "execution_count": 4,
     "metadata": {},
     "output_type": "execute_result"
    }
   ],
   "source": [
    "df_data"
   ]
  },
  {
   "cell_type": "markdown",
   "id": "a9cb844d",
   "metadata": {},
   "source": [
    "Definieren Sie weitere notwenige Größen"
   ]
  },
  {
   "cell_type": "code",
   "execution_count": 8,
   "id": "e28335d0-40ca-461b-a22c-6e6ab670e7a5",
   "metadata": {},
   "outputs": [],
   "source": [
    "el_load = df_data['el. load']\n",
    "pv_p_max_pu = df_data['PV potential']\n",
    "wind_ons_p_max_pu = df_data['Wind OnS potential']\n",
    "wind_offs_p_max_pu = df_data['Wind OffS potential']\n",
    "water_p_max_pu = df_data['Water potential']\n",
    "foreign_price = df_data['Foreign price']\n",
    "\n",
    "bool_committable = False"
   ]
  },
  {
   "cell_type": "code",
   "execution_count": 9,
   "id": "0fcf2256-b33f-4c21-b861-563ac6d39039",
   "metadata": {},
   "outputs": [
    {
     "data": {
      "text/plain": [
       "array([<Axes: >, <Axes: >, <Axes: >, <Axes: >, <Axes: >, <Axes: >],\n",
       "      dtype=object)"
      ]
     },
     "execution_count": 9,
     "metadata": {},
     "output_type": "execute_result"
    },
    {
     "data": {
      "image/png": "[encoded data removed]",
      "text/plain": [
       "<Figure size 1500x1000 with 6 Axes>"
      ]
     },
     "metadata": {},
     "output_type": "display_data"
    }
   ],
   "source": [
    "fig, axs = plt.subplots(figsize=(15,10),nrows=3, ncols=2)\n",
    "df_data[df_data.columns[:-1]].plot(subplots=True, ax=axs)"
   ]
  },
  {
   "cell_type": "markdown",
   "id": "c7cd9f6b",
   "metadata": {},
   "source": [
    "Erstellen Sie das Netzwerk. Vernachlässigen Sie zunächst den Stromhandel mit Anreinerstaaten."
   ]
  },
  {
   "cell_type": "code",
   "execution_count": 42,
   "id": "d032115c-a526-4340-b7c1-8e32e3785f93",
   "metadata": {},
   "outputs": [
    {
     "data": {
      "text/plain": [
       "Index(['battery'], dtype='object')"
      ]
     },
     "execution_count": 42,
     "metadata": {},
     "output_type": "execute_result"
    }
   ],
   "source": [
    "network = pypsa.Network()\n",
    "network.set_snapshots(df_data.index)\n",
    "\n",
    "network.add('Carrier', name = 'gas', co2_emissions = gas_co2)\n",
    "network.add('Carrier', name = 'lignite', co2_emissions = lignite_co2)\n",
    "network.add('Carrier', name = 'hardcoal', co2_emissions = hardcoal_co2)\n",
    "\n",
    "\n",
    "network.add('Bus', name = 'electricity')\n",
    "\n",
    "network.add('Load', name = 'el. load', bus = 'electricity', p_set = el_load)\n",
    "\n",
    "network.add('Generator', name = 'lignite-fired power plants', bus = 'electricity', p_nom = lignite_p_nom,\n",
    "            marginal_cost = lignite_marginal_cost, efficiency = lignite_eff, carrier = 'lignite')\n",
    "network.add('Generator', name = 'hardcoal-fired power plants', bus = 'electricity', p_nom = hardcoal_p_nom,\n",
    "            efficiency = hardcoal_eff, marginal_cost = hardcoal_marginal_cost, carrier = 'hardcoal')\n",
    "network.add('Generator', name = 'gas power plants', bus = 'electricity', p_nom = gas_p_nom,\n",
    "            efficiency = gas_eff, marginal_cost = gas_marginal_cost, carrier = 'gas')\n",
    "network.add('Generator', name = 'biomass-fired power plant', bus = 'electricity', p_nom = biomass_p_nom,\n",
    "            efficiency = biomass_eff, marginal_cost = biomass_marginal_cost)\n",
    "network.add('Generator', name = 'pv', bus= 'electricity', \n",
    "            p_nom = pv_p_nom, p_max_pu = pv_p_max_pu)\n",
    "network.add('Generator', name = 'wind onshore', bus= 'electricity', \n",
    "            p_nom = wind_ons_p_nom, p_max_pu = wind_ons_p_max_pu)\n",
    "network.add('Generator', name = 'wind offshore', bus= 'electricity', \n",
    "            p_nom = wind_offs_p_nom, p_max_pu = wind_offs_p_max_pu)\n",
    "network.add('Generator', name = 'runoff river', bus= 'electricity', \n",
    "            p_nom = water_p_nom, p_max_pu = water_p_max_pu)\n",
    "\n",
    "network.add('StorageUnit',\n",
    "            name = 'pumped storage power plant',\n",
    "            bus = 'electricity',\n",
    "            p_nom = pumped_storage_p_nom,\n",
    "            efficiency_dispatch = pumped_storage_eff,\n",
    "            max_hour = pumped_storage_e_nom/pumped_storage_p_nom,\n",
    "            cyclic_state_of_charge = True)\n",
    "network.add('StorageUnit',\n",
    "            name = 'battery',\n",
    "            bus = 'electricity',\n",
    "            p_nom = pumped_storage_p_nom,\n",
    "            efficiency_store = battery_eff**0.5,\n",
    "            efficiency_dispatch = battery_eff**0.5,\n",
    "            max_hour = battery_e_nom/battery_p_nom,\n",
    "            cyclic_state_of_charge = True)\n",
    "\n",
    "\n",
    "\n",
    "\n"
   ]
  },
  {
   "cell_type": "markdown",
   "id": "9d631f85",
   "metadata": {},
   "source": [
    "Optimieren Sie das Netzwerk"
   ]
  },
  {
   "cell_type": "code",
   "execution_count": 43,
   "id": "53ca6112-cbdb-4b46-b388-8aa724ba8bc8",
   "metadata": {},
   "outputs": [
    {
     "name": "stderr",
     "output_type": "stream",
     "text": [
      "WARNING:pypsa.consistency:The following buses have carriers which are not defined:\n",
      "Index(['electricity'], dtype='object', name='Bus')\n",
      "INFO:linopy.model: Solve problem using Gurobi solver\n",
      "INFO:linopy.model:Solver options:\n",
      " - threads: 1\n",
      "INFO:linopy.io:Writing objective.\n",
      "Writing constraints.: 100%|\u001b[38;2;128;191;255m██████████\u001b[0m| 10/10 [00:01<00:00,  6.83it/s]\n",
      "Writing continuous variables.: 100%|\u001b[38;2;128;191;255m██████████\u001b[0m| 4/4 [00:00<00:00, 17.90it/s]\n",
      "INFO:linopy.io: Writing time: 1.75s\n"
     ]
    },
    {
     "name": "stdout",
     "output_type": "stream",
     "text": [
      "Set parameter ServerTimeout to value 10\n"
     ]
    },
    {
     "name": "stderr",
     "output_type": "stream",
     "text": [
      "INFO:gurobipy:Set parameter ServerTimeout to value 10\n"
     ]
    },
    {
     "name": "stdout",
     "output_type": "stream",
     "text": [
      "Set parameter TokenServer to value \"139.6.183.241\"\n"
     ]
    },
    {
     "name": "stderr",
     "output_type": "stream",
     "text": [
      "INFO:gurobipy:Set parameter TokenServer to value \"139.6.183.241\"\n"
     ]
    },
    {
     "name": "stdout",
     "output_type": "stream",
     "text": [
      "Read LP format model from file /tmp/linopy-problem-4e80a104.lp\n"
     ]
    },
    {
     "name": "stderr",
     "output_type": "stream",
     "text": [
      "INFO:gurobipy:Read LP format model from file /tmp/linopy-problem-4e80a104.lp\n"
     ]
    },
    {
     "name": "stdout",
     "output_type": "stream",
     "text": [
      "Reading time = 0.48 seconds\n"
     ]
    },
    {
     "name": "stderr",
     "output_type": "stream",
     "text": [
      "INFO:gurobipy:Reading time = 0.48 seconds\n"
     ]
    },
    {
     "name": "stdout",
     "output_type": "stream",
     "text": [
      "obj: 272304 rows, 122976 columns, 421632 nonzeros\n"
     ]
    },
    {
     "name": "stderr",
     "output_type": "stream",
     "text": [
      "INFO:gurobipy:obj: 272304 rows, 122976 columns, 421632 nonzeros\n"
     ]
    },
    {
     "name": "stdout",
     "output_type": "stream",
     "text": [
      "Set parameter Threads to value 1\n"
     ]
    },
    {
     "name": "stderr",
     "output_type": "stream",
     "text": [
      "INFO:gurobipy:Set parameter Threads to value 1\n"
     ]
    },
    {
     "name": "stdout",
     "output_type": "stream",
     "text": [
      "Gurobi Optimizer version 12.0.1 build v12.0.1rc0 (linux64 - \"Ubuntu 24.04.1 LTS\")\n"
     ]
    },
    {
     "name": "stderr",
     "output_type": "stream",
     "text": [
      "INFO:gurobipy:Gurobi Optimizer version 12.0.1 build v12.0.1rc0 (linux64 - \"Ubuntu 24.04.1 LTS\")\n"
     ]
    },
    {
     "name": "stdout",
     "output_type": "stream",
     "text": [
      "\n"
     ]
    },
    {
     "name": "stderr",
     "output_type": "stream",
     "text": [
      "INFO:gurobipy:\n"
     ]
    },
    {
     "name": "stdout",
     "output_type": "stream",
     "text": [
      "CPU model: Intel(R) Xeon(R) Gold 6140 CPU @ 2.30GHz, instruction set [SSE2|AVX|AVX2|AVX512]\n"
     ]
    },
    {
     "name": "stderr",
     "output_type": "stream",
     "text": [
      "INFO:gurobipy:CPU model: Intel(R) Xeon(R) Gold 6140 CPU @ 2.30GHz, instruction set [SSE2|AVX|AVX2|AVX512]\n"
     ]
    },
    {
     "name": "stdout",
     "output_type": "stream",
     "text": [
      "Thread count: 12 physical cores, 12 logical processors, using up to 1 threads\n"
     ]
    },
    {
     "name": "stderr",
     "output_type": "stream",
     "text": [
      "INFO:gurobipy:Thread count: 12 physical cores, 12 logical processors, using up to 1 threads\n"
     ]
    },
    {
     "name": "stdout",
     "output_type": "stream",
     "text": [
      "\n"
     ]
    },
    {
     "name": "stderr",
     "output_type": "stream",
     "text": [
      "INFO:gurobipy:\n"
     ]
    },
    {
     "name": "stdout",
     "output_type": "stream",
     "text": [
      "Non-default parameters:\n"
     ]
    },
    {
     "name": "stderr",
     "output_type": "stream",
     "text": [
      "INFO:gurobipy:Non-default parameters:\n"
     ]
    },
    {
     "name": "stdout",
     "output_type": "stream",
     "text": [
      "Threads  1\n"
     ]
    },
    {
     "name": "stderr",
     "output_type": "stream",
     "text": [
      "INFO:gurobipy:Threads  1\n"
     ]
    },
    {
     "name": "stdout",
     "output_type": "stream",
     "text": [
      "\n"
     ]
    },
    {
     "name": "stderr",
     "output_type": "stream",
     "text": [
      "INFO:gurobipy:\n"
     ]
    },
    {
     "name": "stdout",
     "output_type": "stream",
     "text": [
      "Optimize a model with 272304 rows, 122976 columns and 421632 nonzeros\n"
     ]
    },
    {
     "name": "stderr",
     "output_type": "stream",
     "text": [
      "INFO:gurobipy:Optimize a model with 272304 rows, 122976 columns and 421632 nonzeros\n"
     ]
    },
    {
     "name": "stdout",
     "output_type": "stream",
     "text": [
      "Model fingerprint: 0xd80116be\n"
     ]
    },
    {
     "name": "stderr",
     "output_type": "stream",
     "text": [
      "INFO:gurobipy:Model fingerprint: 0xd80116be\n"
     ]
    },
    {
     "name": "stdout",
     "output_type": "stream",
     "text": [
      "Coefficient statistics:\n"
     ]
    },
    {
     "name": "stderr",
     "output_type": "stream",
     "text": [
      "INFO:gurobipy:Coefficient statistics:\n"
     ]
    },
    {
     "name": "stdout",
     "output_type": "stream",
     "text": [
      "  Matrix range     [9e-01, 1e+00]\n"
     ]
    },
    {
     "name": "stderr",
     "output_type": "stream",
     "text": [
      "INFO:gurobipy:  Matrix range     [9e-01, 1e+00]\n"
     ]
    },
    {
     "name": "stdout",
     "output_type": "stream",
     "text": [
      "  Objective range  [7e+01, 1e+02]\n"
     ]
    },
    {
     "name": "stderr",
     "output_type": "stream",
     "text": [
      "INFO:gurobipy:  Objective range  [7e+01, 1e+02]\n"
     ]
    },
    {
     "name": "stdout",
     "output_type": "stream",
     "text": [
      "  Bounds range     [0e+00, 0e+00]\n"
     ]
    },
    {
     "name": "stderr",
     "output_type": "stream",
     "text": [
      "INFO:gurobipy:  Bounds range     [0e+00, 0e+00]\n"
     ]
    },
    {
     "name": "stdout",
     "output_type": "stream",
     "text": [
      "  RHS range        [4e-01, 8e+04]\n"
     ]
    },
    {
     "name": "stderr",
     "output_type": "stream",
     "text": [
      "INFO:gurobipy:  RHS range        [4e-01, 8e+04]\n"
     ]
    },
    {
     "name": "stdout",
     "output_type": "stream",
     "text": [
      "Presolve removed 247064 rows and 46059 columns\n"
     ]
    },
    {
     "name": "stderr",
     "output_type": "stream",
     "text": [
      "INFO:gurobipy:Presolve removed 247064 rows and 46059 columns\n"
     ]
    },
    {
     "name": "stdout",
     "output_type": "stream",
     "text": [
      "Presolve time: 0.38s\n"
     ]
    },
    {
     "name": "stderr",
     "output_type": "stream",
     "text": [
      "INFO:gurobipy:Presolve time: 0.38s\n"
     ]
    },
    {
     "name": "stdout",
     "output_type": "stream",
     "text": [
      "Presolved: 25240 rows, 76917 columns, 127233 nonzeros\n"
     ]
    },
    {
     "name": "stderr",
     "output_type": "stream",
     "text": [
      "INFO:gurobipy:Presolved: 25240 rows, 76917 columns, 127233 nonzeros\n"
     ]
    },
    {
     "name": "stdout",
     "output_type": "stream",
     "text": [
      "\n"
     ]
    },
    {
     "name": "stderr",
     "output_type": "stream",
     "text": [
      "INFO:gurobipy:\n"
     ]
    },
    {
     "name": "stdout",
     "output_type": "stream",
     "text": [
      "Iteration    Objective       Primal Inf.    Dual Inf.      Time\n"
     ]
    },
    {
     "name": "stderr",
     "output_type": "stream",
     "text": [
      "INFO:gurobipy:Iteration    Objective       Primal Inf.    Dual Inf.      Time\n"
     ]
    },
    {
     "name": "stdout",
     "output_type": "stream",
     "text": [
      "       0    2.5266026e+09   3.558727e+07   0.000000e+00      0s\n"
     ]
    },
    {
     "name": "stderr",
     "output_type": "stream",
     "text": [
      "INFO:gurobipy:       0    2.5266026e+09   3.558727e+07   0.000000e+00      0s\n"
     ]
    },
    {
     "name": "stdout",
     "output_type": "stream",
     "text": [
      "   32107    1.4313489e+10   0.000000e+00   0.000000e+00      1s\n"
     ]
    },
    {
     "name": "stderr",
     "output_type": "stream",
     "text": [
      "INFO:gurobipy:   32107    1.4313489e+10   0.000000e+00   0.000000e+00      1s\n"
     ]
    },
    {
     "name": "stdout",
     "output_type": "stream",
     "text": [
      "\n"
     ]
    },
    {
     "name": "stderr",
     "output_type": "stream",
     "text": [
      "INFO:gurobipy:\n"
     ]
    },
    {
     "name": "stdout",
     "output_type": "stream",
     "text": [
      "Solved in 32107 iterations and 1.10 seconds (0.69 work units)\n"
     ]
    },
    {
     "name": "stderr",
     "output_type": "stream",
     "text": [
      "INFO:gurobipy:Solved in 32107 iterations and 1.10 seconds (0.69 work units)\n"
     ]
    },
    {
     "name": "stdout",
     "output_type": "stream",
     "text": [
      "Optimal objective  1.431348911e+10\n"
     ]
    },
    {
     "name": "stderr",
     "output_type": "stream",
     "text": [
      "INFO:gurobipy:Optimal objective  1.431348911e+10\n",
      "INFO:linopy.constants: Optimization successful: \n",
      "Status: ok\n",
      "Termination condition: optimal\n",
      "Solution: 122976 primals, 272304 duals\n",
      "Objective: 1.43e+10\n",
      "Solver model: available\n",
      "Solver message: 2\n",
      "\n",
      "INFO:pypsa.optimization.optimize:The shadow-prices of the constraints Generator-fix-p-lower, Generator-fix-p-upper, StorageUnit-fix-p_dispatch-lower, StorageUnit-fix-p_dispatch-upper, StorageUnit-fix-p_store-lower, StorageUnit-fix-p_store-upper, StorageUnit-fix-state_of_charge-lower, StorageUnit-fix-state_of_charge-upper, StorageUnit-energy_balance were not assigned to the network.\n"
     ]
    },
    {
     "data": {
      "text/plain": [
       "('ok', 'optimal')"
      ]
     },
     "execution_count": 43,
     "metadata": {},
     "output_type": "execute_result"
    }
   ],
   "source": [
    "network.optimize(solver_name='gurobi', threads = 1)"
   ]
  },
  {
   "cell_type": "code",
   "execution_count": 49,
   "id": "ca6b5fb7-c982-43c9-b395-3bbe9790bec7",
   "metadata": {},
   "outputs": [
    {
     "data": {
      "text/plain": [
       "Bus\n",
       "electricity    72.380044\n",
       "dtype: float64"
      ]
     },
     "execution_count": 49,
     "metadata": {},
     "output_type": "execute_result"
    }
   ],
   "source": [
    "network.buses_t['marginal_price'].mean()"
   ]
  },
  {
   "cell_type": "code",
   "execution_count": 47,
   "id": "6aea7cb6-2e63-4fa7-a736-557edf9ff67c",
   "metadata": {},
   "outputs": [
    {
     "data": {
      "text/plain": [
       "78.51203324225867"
      ]
     },
     "execution_count": 47,
     "metadata": {},
     "output_type": "execute_result"
    }
   ],
   "source": [
    "df_data['German market'].mean()"
   ]
  },
  {
   "cell_type": "markdown",
   "id": "d1f82794",
   "metadata": {},
   "source": [
    "Wie groß war der EE-Anteil am Stromverbrauch?"
   ]
  },
  {
   "cell_type": "code",
   "execution_count": 52,
   "id": "564d8879-96c9-4b1c-a900-a244a94f51b2",
   "metadata": {},
   "outputs": [
    {
     "data": {
      "text/plain": [
       "0.7514187289369725"
      ]
     },
     "execution_count": 52,
     "metadata": {},
     "output_type": "execute_result"
    }
   ],
   "source": [
    "(network.generators_t.p.sum()['runoff river'] + network.generators_t.p.sum()['pv'] + network.generators_t.p.sum()['biomass-fired power plant'] + network.generators_t.p.sum()['wind onshore'] + network.generators_t.p.sum()['wind offshore'])/network.generators_t.p.sum().sum()\n"
   ]
  },
  {
   "cell_type": "markdown",
   "id": "dc7d710c",
   "metadata": {},
   "source": [
    "Berechnen Sie die mittleren Stromkosten über die Grenzkosten. Diese können Sie am Bus über network.buses_t.marginal_price auslesen. <br>\n",
    "Wie Groß ist die Differenz zu den mittleren Stromkosten aus dem Jahr 2024?"
   ]
  },
  {
   "cell_type": "code",
   "execution_count": 53,
   "id": "a047f69a-2733-41e1-9934-3d939d3b9a4a",
   "metadata": {},
   "outputs": [
    {
     "name": "stdout",
     "output_type": "stream",
     "text": [
      "72.38004445800195\n",
      "78.51203324225867\n",
      "-6.131988784256708\n"
     ]
    }
   ],
   "source": [
    "print(network.buses_t.marginal_price['electricity'].mean())\n",
    "print(df_data['German market'].mean())\n",
    "print((network.buses_t.marginal_price['electricity'] - df_data['German market']).mean())"
   ]
  },
  {
   "cell_type": "markdown",
   "id": "f02696f5",
   "metadata": {},
   "source": [
    "Vergleichen Sie die Verläufe der optimierten und realen Stromkosten und berechnen Sie sich die mittlere quadratische Abweichung."
   ]
  },
  {
   "cell_type": "code",
   "execution_count": 54,
   "id": "f25aa5a6-47cd-42ae-8d03-ba8b84e21939",
   "metadata": {},
   "outputs": [
    {
     "data": {
      "text/plain": [
       "23.268022034975754"
      ]
     },
     "execution_count": 54,
     "metadata": {},
     "output_type": "execute_result"
    }
   ],
   "source": [
    "np.mean(((df_data['German market'] - network.buses_t.marginal_price['electricity']) ** 2) ** 0.5)"
   ]
  },
  {
   "cell_type": "code",
   "execution_count": null,
   "id": "46db9fe9-83b6-476f-a798-07165936cb25",
   "metadata": {},
   "outputs": [],
   "source": []
  },
  {
   "cell_type": "code",
   "execution_count": null,
   "id": "3b958f2a-948b-45ea-be20-0f971117fa46",
   "metadata": {},
   "outputs": [],
   "source": []
  },
  {
   "cell_type": "code",
   "execution_count": null,
   "id": "d8d69fbf-959b-4eb4-9147-674609fff13c",
   "metadata": {},
   "outputs": [],
   "source": []
  },
  {
   "cell_type": "markdown",
   "id": "7235af54",
   "metadata": {},
   "source": [
    "Lassen Sie sich die Grenzkosten an Ihrem Strombus geordent ausgeben. Wie sind die Plateaus zu erklären? Wie sieht dieser Verlauf bei den real Grenzkosten aus?"
   ]
  },
  {
   "cell_type": "code",
   "execution_count": 55,
   "id": "aaa8fc88-7ad7-4a17-bc1c-7714f36eaf2a",
   "metadata": {},
   "outputs": [
    {
     "data": {
      "text/plain": [
       "<Axes: >"
      ]
     },
     "execution_count": 55,
     "metadata": {},
     "output_type": "execute_result"
    },
    {
     "data": {
      "image/png": "[encoded data removed]",
      "text/plain": [
       "<Figure size 640x480 with 1 Axes>"
      ]
     },
     "metadata": {},
     "output_type": "display_data"
    }
   ],
   "source": [
    "network.buses_t.marginal_price['electricity'].sort_values(ascending=False).reset_index().drop('snapshot',axis=1).plot()"
   ]
  },
  {
   "cell_type": "code",
   "execution_count": 56,
   "id": "274dfed2-3766-4dde-a683-ce9cb85d13e7",
   "metadata": {},
   "outputs": [
    {
     "data": {
      "text/plain": [
       "<Axes: >"
      ]
     },
     "execution_count": 56,
     "metadata": {},
     "output_type": "execute_result"
    },
    {
     "data": {
      "image/png": "[encoded data removed]",
      "text/plain": [
       "<Figure size 640x480 with 1 Axes>"
      ]
     },
     "metadata": {},
     "output_type": "display_data"
    }
   ],
   "source": [
    "df_data['German market'].sort_values(ascending=False).reset_index().drop('index',axis=1).plot()"
   ]
  },
  {
   "cell_type": "code",
   "execution_count": null,
   "id": "03a0a121-5a12-42d0-a701-cad6502586e3",
   "metadata": {},
   "outputs": [],
   "source": []
  },
  {
   "cell_type": "markdown",
   "id": "262c09fb",
   "metadata": {},
   "source": [
    "Implementieren Sie nun ebenfalls den Handel mit Anreinerstaaten. Verwenden Sie für die Import/Export-Preise die durchschnittlichen Strompreise der Anreinerstaaten. Welche Preise müsste man für den Export eigentlich verwenden?"
   ]
  },
  {
   "cell_type": "code",
   "execution_count": 57,
   "id": "0edcfcd2-000c-40a8-9aa8-56ef85aad867",
   "metadata": {},
   "outputs": [
    {
     "data": {
      "text/plain": [
       "Index(['market_export'], dtype='object')"
      ]
     },
     "execution_count": 57,
     "metadata": {},
     "output_type": "execute_result"
    }
   ],
   "source": [
    "network.add('Generator',\n",
    "            name = 'market_import',\n",
    "            bus = 'electricity',\n",
    "            p_nom = np.inf,\n",
    "            marginal_cost = foreign_price)\n",
    "network.add('Generator',\n",
    "            name = 'market_export',\n",
    "            bus = 'electricity',\n",
    "            p_nom = np.inf,\n",
    "            marginal_cost = foreign_price * -1,\n",
    "            sign = -1)"
   ]
  },
  {
   "cell_type": "code",
   "execution_count": 58,
   "id": "14b03818-ee48-483e-b093-59de83edde72",
   "metadata": {},
   "outputs": [
    {
     "name": "stderr",
     "output_type": "stream",
     "text": [
      "WARNING:pypsa.consistency:The following buses have carriers which are not defined:\n",
      "Index(['electricity'], dtype='object', name='Bus')\n",
      "INFO:linopy.model: Solve problem using Gurobi solver\n",
      "INFO:linopy.io:Writing objective.\n",
      "Writing constraints.: 100%|\u001b[38;2;128;191;255m██████████\u001b[0m| 10/10 [00:01<00:00,  6.07it/s]\n",
      "Writing continuous variables.: 100%|\u001b[38;2;128;191;255m██████████\u001b[0m| 4/4 [00:00<00:00, 15.51it/s]\n",
      "INFO:linopy.io: Writing time: 1.99s\n"
     ]
    },
    {
     "name": "stdout",
     "output_type": "stream",
     "text": [
      "Set parameter ServerTimeout to value 10\n"
     ]
    },
    {
     "name": "stderr",
     "output_type": "stream",
     "text": [
      "INFO:gurobipy:Set parameter ServerTimeout to value 10\n"
     ]
    },
    {
     "name": "stdout",
     "output_type": "stream",
     "text": [
      "Set parameter TokenServer to value \"139.6.183.241\"\n"
     ]
    },
    {
     "name": "stderr",
     "output_type": "stream",
     "text": [
      "INFO:gurobipy:Set parameter TokenServer to value \"139.6.183.241\"\n"
     ]
    },
    {
     "name": "stdout",
     "output_type": "stream",
     "text": [
      "Read LP format model from file /tmp/linopy-problem-mk47mtjy.lp\n"
     ]
    },
    {
     "name": "stderr",
     "output_type": "stream",
     "text": [
      "INFO:gurobipy:Read LP format model from file /tmp/linopy-problem-mk47mtjy.lp\n"
     ]
    },
    {
     "name": "stdout",
     "output_type": "stream",
     "text": [
      "Reading time = 0.54 seconds\n"
     ]
    },
    {
     "name": "stderr",
     "output_type": "stream",
     "text": [
      "INFO:gurobipy:Reading time = 0.54 seconds\n"
     ]
    },
    {
     "name": "stdout",
     "output_type": "stream",
     "text": [
      "obj: 289872 rows, 140544 columns, 456768 nonzeros\n"
     ]
    },
    {
     "name": "stderr",
     "output_type": "stream",
     "text": [
      "INFO:gurobipy:obj: 289872 rows, 140544 columns, 456768 nonzeros\n"
     ]
    },
    {
     "name": "stdout",
     "output_type": "stream",
     "text": [
      "Gurobi Optimizer version 12.0.1 build v12.0.1rc0 (linux64 - \"Ubuntu 24.04.1 LTS\")\n"
     ]
    },
    {
     "name": "stderr",
     "output_type": "stream",
     "text": [
      "INFO:gurobipy:Gurobi Optimizer version 12.0.1 build v12.0.1rc0 (linux64 - \"Ubuntu 24.04.1 LTS\")\n"
     ]
    },
    {
     "name": "stdout",
     "output_type": "stream",
     "text": [
      "\n"
     ]
    },
    {
     "name": "stderr",
     "output_type": "stream",
     "text": [
      "INFO:gurobipy:\n"
     ]
    },
    {
     "name": "stdout",
     "output_type": "stream",
     "text": [
      "CPU model: Intel(R) Xeon(R) Gold 6140 CPU @ 2.30GHz, instruction set [SSE2|AVX|AVX2|AVX512]\n"
     ]
    },
    {
     "name": "stderr",
     "output_type": "stream",
     "text": [
      "INFO:gurobipy:CPU model: Intel(R) Xeon(R) Gold 6140 CPU @ 2.30GHz, instruction set [SSE2|AVX|AVX2|AVX512]\n"
     ]
    },
    {
     "name": "stdout",
     "output_type": "stream",
     "text": [
      "Thread count: 12 physical cores, 12 logical processors, using up to 12 threads\n"
     ]
    },
    {
     "name": "stderr",
     "output_type": "stream",
     "text": [
      "INFO:gurobipy:Thread count: 12 physical cores, 12 logical processors, using up to 12 threads\n"
     ]
    },
    {
     "name": "stdout",
     "output_type": "stream",
     "text": [
      "\n"
     ]
    },
    {
     "name": "stderr",
     "output_type": "stream",
     "text": [
      "INFO:gurobipy:\n"
     ]
    },
    {
     "name": "stdout",
     "output_type": "stream",
     "text": [
      "Optimize a model with 289872 rows, 140544 columns and 456768 nonzeros\n"
     ]
    },
    {
     "name": "stderr",
     "output_type": "stream",
     "text": [
      "INFO:gurobipy:Optimize a model with 289872 rows, 140544 columns and 456768 nonzeros\n"
     ]
    },
    {
     "name": "stdout",
     "output_type": "stream",
     "text": [
      "Model fingerprint: 0xc40b0176\n"
     ]
    },
    {
     "name": "stderr",
     "output_type": "stream",
     "text": [
      "INFO:gurobipy:Model fingerprint: 0xc40b0176\n"
     ]
    },
    {
     "name": "stdout",
     "output_type": "stream",
     "text": [
      "Coefficient statistics:\n"
     ]
    },
    {
     "name": "stderr",
     "output_type": "stream",
     "text": [
      "INFO:gurobipy:Coefficient statistics:\n"
     ]
    },
    {
     "name": "stdout",
     "output_type": "stream",
     "text": [
      "  Matrix range     [9e-01, 1e+00]\n"
     ]
    },
    {
     "name": "stderr",
     "output_type": "stream",
     "text": [
      "INFO:gurobipy:  Matrix range     [9e-01, 1e+00]\n"
     ]
    },
    {
     "name": "stdout",
     "output_type": "stream",
     "text": [
      "  Objective range  [1e-02, 7e+02]\n"
     ]
    },
    {
     "name": "stderr",
     "output_type": "stream",
     "text": [
      "INFO:gurobipy:  Objective range  [1e-02, 7e+02]\n"
     ]
    },
    {
     "name": "stdout",
     "output_type": "stream",
     "text": [
      "  Bounds range     [0e+00, 0e+00]\n"
     ]
    },
    {
     "name": "stderr",
     "output_type": "stream",
     "text": [
      "INFO:gurobipy:  Bounds range     [0e+00, 0e+00]\n"
     ]
    },
    {
     "name": "stdout",
     "output_type": "stream",
     "text": [
      "  RHS range        [4e-01, 8e+04]\n"
     ]
    },
    {
     "name": "stderr",
     "output_type": "stream",
     "text": [
      "INFO:gurobipy:  RHS range        [4e-01, 8e+04]\n"
     ]
    },
    {
     "name": "stdout",
     "output_type": "stream",
     "text": [
      "Presolve removed 272306 rows and 87856 columns\n"
     ]
    },
    {
     "name": "stderr",
     "output_type": "stream",
     "text": [
      "INFO:gurobipy:Presolve removed 272306 rows and 87856 columns\n"
     ]
    },
    {
     "name": "stdout",
     "output_type": "stream",
     "text": [
      "Presolve time: 0.24s\n"
     ]
    },
    {
     "name": "stderr",
     "output_type": "stream",
     "text": [
      "INFO:gurobipy:Presolve time: 0.24s\n"
     ]
    },
    {
     "name": "stdout",
     "output_type": "stream",
     "text": [
      "Presolved: 17566 rows, 52688 columns, 70252 nonzeros\n"
     ]
    },
    {
     "name": "stderr",
     "output_type": "stream",
     "text": [
      "INFO:gurobipy:Presolved: 17566 rows, 52688 columns, 70252 nonzeros\n"
     ]
    },
    {
     "name": "stdout",
     "output_type": "stream",
     "text": [
      "\n"
     ]
    },
    {
     "name": "stderr",
     "output_type": "stream",
     "text": [
      "INFO:gurobipy:\n"
     ]
    },
    {
     "name": "stdout",
     "output_type": "stream",
     "text": [
      "Concurrent LP optimizer: primal simplex, dual simplex, and barrier\n"
     ]
    },
    {
     "name": "stderr",
     "output_type": "stream",
     "text": [
      "INFO:gurobipy:Concurrent LP optimizer: primal simplex, dual simplex, and barrier\n"
     ]
    },
    {
     "name": "stdout",
     "output_type": "stream",
     "text": [
      "Showing barrier log only...\n"
     ]
    },
    {
     "name": "stderr",
     "output_type": "stream",
     "text": [
      "INFO:gurobipy:Showing barrier log only...\n"
     ]
    },
    {
     "name": "stdout",
     "output_type": "stream",
     "text": [
      "\n"
     ]
    },
    {
     "name": "stderr",
     "output_type": "stream",
     "text": [
      "INFO:gurobipy:\n"
     ]
    },
    {
     "name": "stdout",
     "output_type": "stream",
     "text": [
      "Ordering time: 0.01s\n"
     ]
    },
    {
     "name": "stderr",
     "output_type": "stream",
     "text": [
      "INFO:gurobipy:Ordering time: 0.01s\n"
     ]
    },
    {
     "name": "stdout",
     "output_type": "stream",
     "text": [
      "\n"
     ]
    },
    {
     "name": "stderr",
     "output_type": "stream",
     "text": [
      "INFO:gurobipy:\n"
     ]
    },
    {
     "name": "stdout",
     "output_type": "stream",
     "text": [
      "Barrier statistics:\n"
     ]
    },
    {
     "name": "stderr",
     "output_type": "stream",
     "text": [
      "INFO:gurobipy:Barrier statistics:\n"
     ]
    },
    {
     "name": "stdout",
     "output_type": "stream",
     "text": [
      " AA' NZ     : 1.756e+04\n"
     ]
    },
    {
     "name": "stderr",
     "output_type": "stream",
     "text": [
      "INFO:gurobipy: AA' NZ     : 1.756e+04\n"
     ]
    },
    {
     "name": "stdout",
     "output_type": "stream",
     "text": [
      " Factor NZ  : 2.950e+05 (roughly 30 MB of memory)\n"
     ]
    },
    {
     "name": "stderr",
     "output_type": "stream",
     "text": [
      "INFO:gurobipy: Factor NZ  : 2.950e+05 (roughly 30 MB of memory)\n"
     ]
    },
    {
     "name": "stdout",
     "output_type": "stream",
     "text": [
      " Factor Ops : 6.216e+06 (less than 1 second per iteration)\n"
     ]
    },
    {
     "name": "stderr",
     "output_type": "stream",
     "text": [
      "INFO:gurobipy: Factor Ops : 6.216e+06 (less than 1 second per iteration)\n"
     ]
    },
    {
     "name": "stdout",
     "output_type": "stream",
     "text": [
      " Threads    : 10\n"
     ]
    },
    {
     "name": "stderr",
     "output_type": "stream",
     "text": [
      "INFO:gurobipy: Threads    : 10\n"
     ]
    },
    {
     "name": "stdout",
     "output_type": "stream",
     "text": [
      "\n"
     ]
    },
    {
     "name": "stderr",
     "output_type": "stream",
     "text": [
      "INFO:gurobipy:\n"
     ]
    },
    {
     "name": "stdout",
     "output_type": "stream",
     "text": [
      "                  Objective                Residual\n"
     ]
    },
    {
     "name": "stderr",
     "output_type": "stream",
     "text": [
      "INFO:gurobipy:                  Objective                Residual\n"
     ]
    },
    {
     "name": "stdout",
     "output_type": "stream",
     "text": [
      "Iter       Primal          Dual         Primal    Dual     Compl     Time\n"
     ]
    },
    {
     "name": "stderr",
     "output_type": "stream",
     "text": [
      "INFO:gurobipy:Iter       Primal          Dual         Primal    Dual     Compl     Time\n"
     ]
    },
    {
     "name": "stdout",
     "output_type": "stream",
     "text": [
      "   0   1.61727928e+10 -1.97716021e+11  1.11e+03 9.09e-13  3.73e+06     1s\n"
     ]
    },
    {
     "name": "stderr",
     "output_type": "stream",
     "text": [
      "INFO:gurobipy:   0   1.61727928e+10 -1.97716021e+11  1.11e+03 9.09e-13  3.73e+06     1s\n"
     ]
    },
    {
     "name": "stdout",
     "output_type": "stream",
     "text": [
      "   1   1.26871521e+10 -3.27542028e+10  6.82e-13 1.82e-12  4.31e+05     1s\n"
     ]
    },
    {
     "name": "stderr",
     "output_type": "stream",
     "text": [
      "INFO:gurobipy:   1   1.26871521e+10 -3.27542028e+10  6.82e-13 1.82e-12  4.31e+05     1s\n"
     ]
    },
    {
     "name": "stdout",
     "output_type": "stream",
     "text": [
      "   2   1.24959543e+10  7.74964778e+09  3.41e-13 9.09e-13  4.50e+04     2s\n"
     ]
    },
    {
     "name": "stderr",
     "output_type": "stream",
     "text": [
      "INFO:gurobipy:   2   1.24959543e+10  7.74964778e+09  3.41e-13 9.09e-13  4.50e+04     2s\n"
     ]
    },
    {
     "name": "stdout",
     "output_type": "stream",
     "text": [
      "\n"
     ]
    },
    {
     "name": "stderr",
     "output_type": "stream",
     "text": [
      "INFO:gurobipy:\n"
     ]
    },
    {
     "name": "stdout",
     "output_type": "stream",
     "text": [
      "Barrier performed 2 iterations in 2.14 seconds (0.27 work units)\n"
     ]
    },
    {
     "name": "stderr",
     "output_type": "stream",
     "text": [
      "INFO:gurobipy:Barrier performed 2 iterations in 2.14 seconds (0.27 work units)\n"
     ]
    },
    {
     "name": "stdout",
     "output_type": "stream",
     "text": [
      "Barrier solve interrupted - model solved by another algorithm\n"
     ]
    },
    {
     "name": "stderr",
     "output_type": "stream",
     "text": [
      "INFO:gurobipy:Barrier solve interrupted - model solved by another algorithm\n"
     ]
    },
    {
     "name": "stdout",
     "output_type": "stream",
     "text": [
      "\n"
     ]
    },
    {
     "name": "stderr",
     "output_type": "stream",
     "text": [
      "INFO:gurobipy:\n"
     ]
    },
    {
     "name": "stdout",
     "output_type": "stream",
     "text": [
      "\n"
     ]
    },
    {
     "name": "stderr",
     "output_type": "stream",
     "text": [
      "INFO:gurobipy:\n"
     ]
    },
    {
     "name": "stdout",
     "output_type": "stream",
     "text": [
      "Solved with primal simplex\n"
     ]
    },
    {
     "name": "stderr",
     "output_type": "stream",
     "text": [
      "INFO:gurobipy:Solved with primal simplex\n"
     ]
    },
    {
     "name": "stdout",
     "output_type": "stream",
     "text": [
      "Iteration    Objective       Primal Inf.    Dual Inf.      Time\n"
     ]
    },
    {
     "name": "stderr",
     "output_type": "stream",
     "text": [
      "INFO:gurobipy:Iteration    Objective       Primal Inf.    Dual Inf.      Time\n"
     ]
    },
    {
     "name": "stdout",
     "output_type": "stream",
     "text": [
      "   16834    1.1137259e+10   0.000000e+00   0.000000e+00      7s\n"
     ]
    },
    {
     "name": "stderr",
     "output_type": "stream",
     "text": [
      "INFO:gurobipy:   16834    1.1137259e+10   0.000000e+00   0.000000e+00      7s\n"
     ]
    },
    {
     "name": "stdout",
     "output_type": "stream",
     "text": [
      "\n"
     ]
    },
    {
     "name": "stderr",
     "output_type": "stream",
     "text": [
      "INFO:gurobipy:\n"
     ]
    },
    {
     "name": "stdout",
     "output_type": "stream",
     "text": [
      "Solved in 16834 iterations and 7.28 seconds (0.39 work units)\n"
     ]
    },
    {
     "name": "stderr",
     "output_type": "stream",
     "text": [
      "INFO:gurobipy:Solved in 16834 iterations and 7.28 seconds (0.39 work units)\n"
     ]
    },
    {
     "name": "stdout",
     "output_type": "stream",
     "text": [
      "Optimal objective  1.113725858e+10\n"
     ]
    },
    {
     "name": "stderr",
     "output_type": "stream",
     "text": [
      "INFO:gurobipy:Optimal objective  1.113725858e+10\n",
      "INFO:linopy.constants: Optimization successful: \n",
      "Status: ok\n",
      "Termination condition: optimal\n",
      "Solution: 140544 primals, 289872 duals\n",
      "Objective: 1.11e+10\n",
      "Solver model: available\n",
      "Solver message: 2\n",
      "\n",
      "INFO:pypsa.optimization.optimize:The shadow-prices of the constraints Generator-fix-p-lower, Generator-fix-p-upper, StorageUnit-fix-p_dispatch-lower, StorageUnit-fix-p_dispatch-upper, StorageUnit-fix-p_store-lower, StorageUnit-fix-p_store-upper, StorageUnit-fix-state_of_charge-lower, StorageUnit-fix-state_of_charge-upper, StorageUnit-energy_balance were not assigned to the network.\n"
     ]
    },
    {
     "data": {
      "text/plain": [
       "('ok', 'optimal')"
      ]
     },
     "execution_count": 58,
     "metadata": {},
     "output_type": "execute_result"
    }
   ],
   "source": [
    "network.optimize(solver_name = 'gurobi')"
   ]
  },
  {
   "cell_type": "code",
   "execution_count": 60,
   "id": "b28ce835-ac20-4746-870c-47f715fd9bf4",
   "metadata": {},
   "outputs": [
    {
     "data": {
      "text/plain": [
       "Bus\n",
       "electricity    71.439208\n",
       "dtype: float64"
      ]
     },
     "execution_count": 60,
     "metadata": {},
     "output_type": "execute_result"
    }
   ],
   "source": [
    "network.buses_t.marginal_price.mean()"
   ]
  },
  {
   "cell_type": "markdown",
   "id": "63538c7c-7db4-49e6-8cd8-18dfabd6f24b",
   "metadata": {},
   "source": [
    "Vergleichen Sie die importieren und exportieren Energiemengen mit den Realdaten. <br>\n",
    "Stromimport und Stromexport in Deutschland 2024: <br>\n",
    "Import:&emsp;     77.2 TWh <br>\n",
    "Export:&emsp;    -48.9 TWh <br>\n",
    "Netto:&emsp;      28.3 TWh <br>"
   ]
  },
  {
   "cell_type": "code",
   "execution_count": 62,
   "id": "629e6b54-9ef2-4369-8bce-0e274a5a5cd3",
   "metadata": {},
   "outputs": [
    {
     "name": "stdout",
     "output_type": "stream",
     "text": [
      "Import: 94.73 TWh\n",
      "Export: -75.69 TWh\n",
      "Netto: 19.04 TWh\n",
      "\n",
      "Realimport: 77.2 TWh\n",
      "Realexport: -48.9 TWh\n",
      "Realnetto: 28.3 TWh\n"
     ]
    }
   ],
   "source": [
    "print(\"Import:\", round(network.generators_t.p.market_import.sum()/1000000,2), \"TWh\")\n",
    "print(\"Export:\", round(network.generators_t.p.market_export.sum()*-1/1000000,2), \"TWh\")\n",
    "print(\"Netto:\", round((network.generators_t.p.market_import.sum() - network.generators_t.p.market_export.sum())/1000000,2), \"TWh\")\n",
    "print()\n",
    "print(\"Realimport: 77.2 TWh\")\n",
    "print(\"Realexport: -48.9 TWh\")\n",
    "print(\"Realnetto: 28.3 TWh\")"
   ]
  },
  {
   "cell_type": "code",
   "execution_count": 63,
   "id": "e4cb6b42-6c94-415a-bbe0-61f2b069600b",
   "metadata": {},
   "outputs": [
    {
     "data": {
      "text/plain": [
       "<Axes: >"
      ]
     },
     "execution_count": 63,
     "metadata": {},
     "output_type": "execute_result"
    },
    {
     "data": {
      "image/png": "[encoded data removed]",
      "text/plain": [
       "<Figure size 640x480 with 1 Axes>"
      ]
     },
     "metadata": {},
     "output_type": "display_data"
    }
   ],
   "source": [
    "network.buses_t.marginal_price['electricity'].sort_values(ascending=False).reset_index().drop('snapshot',axis=1).plot()"
   ]
  },
  {
   "cell_type": "code",
   "execution_count": null,
   "id": "410faaf9-81c0-4f72-8fd8-de9a3f4640b0",
   "metadata": {},
   "outputs": [],
   "source": []
  }
 ],
 "metadata": {
  "kernelspec": {
   "display_name": "Python 3 (ipykernel)",
   "language": "python",
   "name": "python3"
  },
  "language_info": {
   "codemirror_mode": {
    "name": "ipython",
    "version": 3
   },
   "file_extension": ".py",
   "mimetype": "text/x-python",
   "name": "python",
   "nbconvert_exporter": "python",
   "pygments_lexer": "ipython3",
   "version": "3.12.8"
  }
 },
 "nbformat": 4,
 "nbformat_minor": 5
}
