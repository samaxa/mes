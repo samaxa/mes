{
 "cells": [
  {
   "cell_type": "markdown",
   "id": "cfcc2b60",
   "metadata": {},
   "source": [
    "# PyPSA Beispiel 4"
   ]
  },
  {
   "cell_type": "markdown",
   "id": "479c3252",
   "metadata": {},
   "source": [
    "### a. PV-Anlage vs. Flachkollektoren"
   ]
  },
  {
   "cell_type": "markdown",
   "id": "480b85b9",
   "metadata": {},
   "source": [
    "Importieren Sie die notwendigen Bibliotheken und lesen Sie die Input Daten ein ('data_PyPSA_04.csv')"
   ]
  },
  {
   "cell_type": "code",
   "id": "ca7f37a6-1c45-4913-9480-0fd6a6f7a604",
   "metadata": {
    "ExecuteTime": {
     "end_time": "2025-08-28T16:05:14.689514Z",
     "start_time": "2025-08-28T16:05:14.686512Z"
    }
   },
   "source": [
    "import numpy as np\n",
    "import pandas as pd\n",
    "import pypsa"
   ],
   "outputs": [],
   "execution_count": 4
  },
  {
   "cell_type": "code",
   "id": "fa19f04a-b928-4305-9621-e553936ac941",
   "metadata": {
    "ExecuteTime": {
     "end_time": "2025-08-28T16:05:14.737578Z",
     "start_time": "2025-08-28T16:05:14.725063Z"
    }
   },
   "source": "df_data = pd.read_csv('Input/data_PyPSA_04.csv')",
   "outputs": [],
   "execution_count": 5
  },
  {
   "cell_type": "code",
   "id": "20713bd3-dac5-4f10-9354-94b58ae6ae5a",
   "metadata": {
    "ExecuteTime": {
     "end_time": "2025-08-28T16:05:15.163481Z",
     "start_time": "2025-08-28T16:05:14.785623Z"
    }
   },
   "source": [
    "df_data.loc[:,[\"PV\",\"solar_thermal_eff\"]].plot(alpha=0.5)"
   ],
   "outputs": [
    {
     "data": {
      "text/plain": [
       "<Axes: >"
      ]
     },
     "execution_count": 6,
     "metadata": {},
     "output_type": "execute_result"
    },
    {
     "data": {
      "text/plain": [
       "<Figure size 640x480 with 1 Axes>"
      ],
      "image/png": "[encoded data removed]"
     },
     "metadata": {},
     "output_type": "display_data"
    }
   ],
   "execution_count": 6
  },
  {
   "cell_type": "markdown",
   "id": "b326b17d",
   "metadata": {},
   "source": [
    "Implementieren Sie das Basissystem, sowie die PV-Anlage, die Flachkollektoren und den Heizstab."
   ]
  },
  {
   "cell_type": "code",
   "id": "cb1c0bb5-75a4-41c4-bca4-864dd3d8597d",
   "metadata": {
    "ExecuteTime": {
     "end_time": "2025-08-28T16:05:15.182243Z",
     "start_time": "2025-08-28T16:05:15.178278Z"
    }
   },
   "source": [
    "boiler_p_nom        = np.inf\n",
    "boiler_eff          = 0.85\n",
    "gas_rate            = 0.123 #€/kWh\n",
    "\n",
    "electricity_rate    = 0.409 #€/kWh\n",
    "grid_p_nom          = 15    #kW \n",
    "\n",
    "interest_rate       = 0.02\n",
    "\n",
    "pv_invest           = 1000  #€/kWp\n",
    "pv_lifespan         = 25    #Jahre\n",
    "pv_annuity          = pv_invest*((1+interest_rate)**pv_lifespan)*interest_rate/((1+interest_rate)**pv_lifespan-1)\n",
    "pv_p_per_m2         = 0.2   #kWp/m2\n",
    "\n",
    "heating_rod_eff     = 0.99  #Effizienz des Heizstabes\n",
    "heating_rod_p_nom   = 3     #Leistung des Heizstabes in kW\n",
    "\n",
    "col_invest          = 600   #€/kW_th (Spitzenlast bei G = 1000 W/m2 und 35° Neigung Südausrichtung)\n",
    "col_lifespan        = 20    #Jahre\n",
    "col_annuity         = col_invest*((1+interest_rate)**col_lifespan)*interest_rate/((1+interest_rate)**col_lifespan-1)\n",
    "col_p_per_m2        = 0.805 #kWp_th/m2 (Bei 35° Dachneigung Südseite)\n",
    "\n",
    "heat_store_loss     = 0.005\n",
    "heat_store_e_nom    = 8.55   # kWh (entspricht einem 300 l Pufferspeicher bei einer Temperaturspreizung von 25 K)"
   ],
   "outputs": [],
   "execution_count": 7
  },
  {
   "cell_type": "code",
   "id": "e3c98207-ad97-4ad3-8e55-8b282b604534",
   "metadata": {
    "ExecuteTime": {
     "end_time": "2025-08-28T16:05:15.353135Z",
     "start_time": "2025-08-28T16:05:15.214504Z"
    }
   },
   "source": [
    "network = pypsa.Network()\n",
    "network.set_snapshots(df_data.index)\n",
    "\n",
    "network.add('Bus', name = 'thermal')\n",
    "network.add('Bus', name = 'electricity')\n",
    "\n",
    "network.add('Load', name = 'heating_load', \n",
    "            bus = 'thermal', \n",
    "            p_set = df_data[\"heat_load\"])\n",
    "network.add('Load', name = 'electrical_load', \n",
    "            bus = 'electricity', \n",
    "            p_set = df_data[\"electrical_load\"])\n",
    "\n",
    "\n",
    "network.add('Generator', name = 'grid',\n",
    "            bus = 'electricity',\n",
    "            p_nom = grid_p_nom,\n",
    "            marginal_cost = electricity_rate)\n",
    "network.add('Generator',  name = 'boiler',\n",
    "            bus = 'thermal', \n",
    "            p_nom = boiler_p_nom, \n",
    "            marginal_cost = gas_rate/boiler_eff)\n",
    "network.add('Generator', name = 'PV',\n",
    "            bus = 'electricity', \n",
    "            p_nom_extendable = True, \n",
    "            capital_cost = pv_annuity, \n",
    "            p_max_pu = df_data[\"PV\"])\n",
    "network.add('Generator', name = 'collector', \n",
    "            bus = 'thermal', \n",
    "            p_nom_extendable = True, \n",
    "            capital_cost = col_annuity, \n",
    "            p_max_pu = df_data[\"solar_thermal_eff\"])\n",
    "\n",
    "network.add('Link', name = 'heating_rod',\n",
    "            bus0 = 'electricity', \n",
    "            bus1 = 'thermal', \n",
    "            p_nom = heating_rod_p_nom,  \n",
    "            efficiency = heating_rod_eff)\n",
    "\n",
    "network.add('Store',  name = 'heat_store',\n",
    "            bus = 'thermal', \n",
    "            e_nom = heat_store_e_nom, \n",
    "            standing_loss = heat_store_loss)"
   ],
   "outputs": [
    {
     "data": {
      "text/plain": [
       "Index(['heat_store'], dtype='object')"
      ]
     },
     "execution_count": 8,
     "metadata": {},
     "output_type": "execute_result"
    }
   ],
   "execution_count": 8
  },
  {
   "cell_type": "markdown",
   "id": "de55f180",
   "metadata": {},
   "source": [
    "Optimieren Sie das System zunächst ohne Begrenzung der Dachfläche"
   ]
  },
  {
   "cell_type": "code",
   "id": "a14750ed-1a03-4d61-af7b-4189687920b5",
   "metadata": {
    "ExecuteTime": {
     "end_time": "2025-08-28T16:05:18.689792Z",
     "start_time": "2025-08-28T16:05:15.412197Z"
    }
   },
   "source": [
    "network.optimize(solver_name=\"gurobi\", method = 1, threads = 1)"
   ],
   "outputs": [
    {
     "name": "stderr",
     "output_type": "stream",
     "text": [
      "WARNING:pypsa.consistency:The following links have carriers which are not defined:\n",
      "Index(['heating_rod'], dtype='object', name='Link')\n",
      "WARNING:pypsa.consistency:The following stores have carriers which are not defined:\n",
      "Index(['heat_store'], dtype='object', name='Store')\n",
      "WARNING:pypsa.consistency:The following buses have carriers which are not defined:\n",
      "Index(['thermal', 'electricity'], dtype='object', name='Bus')\n",
      "INFO:linopy.model: Solve problem using Gurobi solver\n",
      "INFO:linopy.model:Solver options:\n",
      " - method: 1\n",
      " - threads: 1\n",
      "INFO:linopy.io:Writing objective.\n",
      "Writing constraints.: 100%|\u001B[38;2;128;191;255m██████████\u001B[0m| 12/12 [00:00<00:00, 21.90it/s]\n",
      "Writing continuous variables.: 100%|\u001B[38;2;128;191;255m██████████\u001B[0m| 5/5 [00:00<00:00, 37.28it/s]\n",
      "INFO:linopy.io: Writing time: 0.73s\n"
     ]
    },
    {
     "name": "stdout",
     "output_type": "stream",
     "text": [
      "Set parameter Username\n"
     ]
    },
    {
     "name": "stderr",
     "output_type": "stream",
     "text": [
      "INFO:gurobipy:Set parameter Username\n"
     ]
    },
    {
     "name": "stdout",
     "output_type": "stream",
     "text": [
      "Set parameter LicenseID to value 2694931\n"
     ]
    },
    {
     "name": "stderr",
     "output_type": "stream",
     "text": [
      "INFO:gurobipy:Set parameter LicenseID to value 2694931\n"
     ]
    },
    {
     "name": "stdout",
     "output_type": "stream",
     "text": [
      "Academic license - for non-commercial use only - expires 2026-08-11\n"
     ]
    },
    {
     "name": "stderr",
     "output_type": "stream",
     "text": [
      "INFO:gurobipy:Academic license - for non-commercial use only - expires 2026-08-11\n"
     ]
    },
    {
     "name": "stdout",
     "output_type": "stream",
     "text": [
      "Read LP format model from file C:\\Users\\sarah\\AppData\\Local\\Temp\\linopy-problem-2rvowgyt.lp\n"
     ]
    },
    {
     "name": "stderr",
     "output_type": "stream",
     "text": [
      "INFO:gurobipy:Read LP format model from file C:\\Users\\sarah\\AppData\\Local\\Temp\\linopy-problem-2rvowgyt.lp\n"
     ]
    },
    {
     "name": "stdout",
     "output_type": "stream",
     "text": [
      "Reading time = 0.17 seconds\n"
     ]
    },
    {
     "name": "stderr",
     "output_type": "stream",
     "text": [
      "INFO:gurobipy:Reading time = 0.17 seconds\n"
     ]
    },
    {
     "name": "stdout",
     "output_type": "stream",
     "text": [
      "obj: 122642 rows, 61322 columns, 191151 nonzeros\n"
     ]
    },
    {
     "name": "stderr",
     "output_type": "stream",
     "text": [
      "INFO:gurobipy:obj: 122642 rows, 61322 columns, 191151 nonzeros\n"
     ]
    },
    {
     "name": "stdout",
     "output_type": "stream",
     "text": [
      "Set parameter Method to value 1\n"
     ]
    },
    {
     "name": "stderr",
     "output_type": "stream",
     "text": [
      "INFO:gurobipy:Set parameter Method to value 1\n"
     ]
    },
    {
     "name": "stdout",
     "output_type": "stream",
     "text": [
      "Set parameter Threads to value 1\n"
     ]
    },
    {
     "name": "stderr",
     "output_type": "stream",
     "text": [
      "INFO:gurobipy:Set parameter Threads to value 1\n"
     ]
    },
    {
     "name": "stdout",
     "output_type": "stream",
     "text": [
      "Gurobi Optimizer version 12.0.2 build v12.0.2rc0 (win64 - Windows 10.0 (19045.2))\n"
     ]
    },
    {
     "name": "stderr",
     "output_type": "stream",
     "text": [
      "INFO:gurobipy:Gurobi Optimizer version 12.0.2 build v12.0.2rc0 (win64 - Windows 10.0 (19045.2))\n"
     ]
    },
    {
     "name": "stdout",
     "output_type": "stream",
     "text": [
      "\n"
     ]
    },
    {
     "name": "stderr",
     "output_type": "stream",
     "text": [
      "INFO:gurobipy:\n"
     ]
    },
    {
     "name": "stdout",
     "output_type": "stream",
     "text": [
      "CPU model: AMD Ryzen 7 5800X3D 8-Core Processor, instruction set [SSE2|AVX|AVX2]\n"
     ]
    },
    {
     "name": "stderr",
     "output_type": "stream",
     "text": [
      "INFO:gurobipy:CPU model: AMD Ryzen 7 5800X3D 8-Core Processor, instruction set [SSE2|AVX|AVX2]\n"
     ]
    },
    {
     "name": "stdout",
     "output_type": "stream",
     "text": [
      "Thread count: 8 physical cores, 16 logical processors, using up to 1 threads\n"
     ]
    },
    {
     "name": "stderr",
     "output_type": "stream",
     "text": [
      "INFO:gurobipy:Thread count: 8 physical cores, 16 logical processors, using up to 1 threads\n"
     ]
    },
    {
     "name": "stdout",
     "output_type": "stream",
     "text": [
      "\n"
     ]
    },
    {
     "name": "stderr",
     "output_type": "stream",
     "text": [
      "INFO:gurobipy:\n"
     ]
    },
    {
     "name": "stdout",
     "output_type": "stream",
     "text": [
      "Non-default parameters:\n"
     ]
    },
    {
     "name": "stderr",
     "output_type": "stream",
     "text": [
      "INFO:gurobipy:Non-default parameters:\n"
     ]
    },
    {
     "name": "stdout",
     "output_type": "stream",
     "text": [
      "Method  1\n"
     ]
    },
    {
     "name": "stderr",
     "output_type": "stream",
     "text": [
      "INFO:gurobipy:Method  1\n"
     ]
    },
    {
     "name": "stdout",
     "output_type": "stream",
     "text": [
      "Threads  1\n"
     ]
    },
    {
     "name": "stderr",
     "output_type": "stream",
     "text": [
      "INFO:gurobipy:Threads  1\n"
     ]
    },
    {
     "name": "stdout",
     "output_type": "stream",
     "text": [
      "\n"
     ]
    },
    {
     "name": "stderr",
     "output_type": "stream",
     "text": [
      "INFO:gurobipy:\n"
     ]
    },
    {
     "name": "stdout",
     "output_type": "stream",
     "text": [
      "Optimize a model with 122642 rows, 61322 columns and 191151 nonzeros\n"
     ]
    },
    {
     "name": "stderr",
     "output_type": "stream",
     "text": [
      "INFO:gurobipy:Optimize a model with 122642 rows, 61322 columns and 191151 nonzeros\n"
     ]
    },
    {
     "name": "stdout",
     "output_type": "stream",
     "text": [
      "Model fingerprint: 0x1b4aec0c\n"
     ]
    },
    {
     "name": "stderr",
     "output_type": "stream",
     "text": [
      "INFO:gurobipy:Model fingerprint: 0x1b4aec0c\n"
     ]
    },
    {
     "name": "stdout",
     "output_type": "stream",
     "text": [
      "Coefficient statistics:\n"
     ]
    },
    {
     "name": "stderr",
     "output_type": "stream",
     "text": [
      "INFO:gurobipy:Coefficient statistics:\n"
     ]
    },
    {
     "name": "stdout",
     "output_type": "stream",
     "text": [
      "  Matrix range     [1e-03, 1e+00]\n"
     ]
    },
    {
     "name": "stderr",
     "output_type": "stream",
     "text": [
      "INFO:gurobipy:  Matrix range     [1e-03, 1e+00]\n"
     ]
    },
    {
     "name": "stdout",
     "output_type": "stream",
     "text": [
      "  Objective range  [1e-01, 5e+01]\n"
     ]
    },
    {
     "name": "stderr",
     "output_type": "stream",
     "text": [
      "INFO:gurobipy:  Objective range  [1e-01, 5e+01]\n"
     ]
    },
    {
     "name": "stdout",
     "output_type": "stream",
     "text": [
      "  Bounds range     [0e+00, 0e+00]\n"
     ]
    },
    {
     "name": "stderr",
     "output_type": "stream",
     "text": [
      "INFO:gurobipy:  Bounds range     [0e+00, 0e+00]\n"
     ]
    },
    {
     "name": "stdout",
     "output_type": "stream",
     "text": [
      "  RHS range        [2e-03, 2e+01]\n"
     ]
    },
    {
     "name": "stderr",
     "output_type": "stream",
     "text": [
      "INFO:gurobipy:  RHS range        [2e-03, 2e+01]\n"
     ]
    },
    {
     "name": "stdout",
     "output_type": "stream",
     "text": [
      "Presolve removed 102585 rows and 28391 columns\n"
     ]
    },
    {
     "name": "stderr",
     "output_type": "stream",
     "text": [
      "INFO:gurobipy:Presolve removed 102585 rows and 28391 columns\n"
     ]
    },
    {
     "name": "stdout",
     "output_type": "stream",
     "text": [
      "Presolve time: 0.11s\n"
     ]
    },
    {
     "name": "stderr",
     "output_type": "stream",
     "text": [
      "INFO:gurobipy:Presolve time: 0.11s\n"
     ]
    },
    {
     "name": "stdout",
     "output_type": "stream",
     "text": [
      "Presolved: 20057 rows, 32931 columns, 60077 nonzeros\n"
     ]
    },
    {
     "name": "stderr",
     "output_type": "stream",
     "text": [
      "INFO:gurobipy:Presolved: 20057 rows, 32931 columns, 60077 nonzeros\n"
     ]
    },
    {
     "name": "stdout",
     "output_type": "stream",
     "text": [
      "\n"
     ]
    },
    {
     "name": "stderr",
     "output_type": "stream",
     "text": [
      "INFO:gurobipy:\n"
     ]
    },
    {
     "name": "stdout",
     "output_type": "stream",
     "text": [
      "Iteration    Objective       Primal Inf.    Dual Inf.      Time\n"
     ]
    },
    {
     "name": "stderr",
     "output_type": "stream",
     "text": [
      "INFO:gurobipy:Iteration    Objective       Primal Inf.    Dual Inf.      Time\n"
     ]
    },
    {
     "name": "stdout",
     "output_type": "stream",
     "text": [
      "       0    8.8055226e+02   5.537631e+04   0.000000e+00      0s\n"
     ]
    },
    {
     "name": "stderr",
     "output_type": "stream",
     "text": [
      "INFO:gurobipy:       0    8.8055226e+02   5.537631e+04   0.000000e+00      0s\n"
     ]
    },
    {
     "name": "stdout",
     "output_type": "stream",
     "text": [
      "   11974    3.9848565e+03   0.000000e+00   0.000000e+00      1s\n"
     ]
    },
    {
     "name": "stderr",
     "output_type": "stream",
     "text": [
      "INFO:gurobipy:   11974    3.9848565e+03   0.000000e+00   0.000000e+00      1s\n"
     ]
    },
    {
     "name": "stdout",
     "output_type": "stream",
     "text": [
      "\n"
     ]
    },
    {
     "name": "stderr",
     "output_type": "stream",
     "text": [
      "INFO:gurobipy:\n"
     ]
    },
    {
     "name": "stdout",
     "output_type": "stream",
     "text": [
      "Solved in 11974 iterations and 0.53 seconds (0.92 work units)\n"
     ]
    },
    {
     "name": "stderr",
     "output_type": "stream",
     "text": [
      "INFO:gurobipy:Solved in 11974 iterations and 0.53 seconds (0.92 work units)\n"
     ]
    },
    {
     "name": "stdout",
     "output_type": "stream",
     "text": [
      "Optimal objective  3.984856519e+03\n"
     ]
    },
    {
     "name": "stderr",
     "output_type": "stream",
     "text": [
      "INFO:gurobipy:Optimal objective  3.984856519e+03\n",
      "INFO:linopy.constants: Optimization successful: \n",
      "Status: ok\n",
      "Termination condition: optimal\n",
      "Solution: 61322 primals, 122642 duals\n",
      "Objective: 3.98e+03\n",
      "Solver model: available\n",
      "Solver message: 2\n",
      "\n",
      "INFO:pypsa.optimization.optimize:The shadow-prices of the constraints Generator-fix-p-lower, Generator-fix-p-upper, Generator-ext-p-lower, Generator-ext-p-upper, Link-fix-p-lower, Link-fix-p-upper, Store-fix-e-lower, Store-fix-e-upper, Store-energy_balance were not assigned to the network.\n"
     ]
    },
    {
     "data": {
      "text/plain": [
       "('ok', 'optimal')"
      ]
     },
     "execution_count": 9,
     "metadata": {},
     "output_type": "execute_result"
    }
   ],
   "execution_count": 9
  },
  {
   "cell_type": "markdown",
   "id": "43b83aec",
   "metadata": {},
   "source": [
    "Lassen Sie sich die Auslegung der PV-Anlage sowie der Flachkollektoren ausgeben und berechnen Sie die benötigte Dachfläche"
   ]
  },
  {
   "cell_type": "code",
   "id": "bb6af18f-fddc-41b3-82ae-3c9b306427a2",
   "metadata": {
    "ExecuteTime": {
     "end_time": "2025-08-28T16:05:18.708733Z",
     "start_time": "2025-08-28T16:05:18.704221Z"
    }
   },
   "source": [
    "network.generators.p_nom_opt"
   ],
   "outputs": [
    {
     "data": {
      "text/plain": [
       "Generator\n",
       "grid         15.000000\n",
       "boiler             inf\n",
       "PV            5.601445\n",
       "collector     1.845980\n",
       "Name: p_nom_opt, dtype: float64"
      ]
     },
     "execution_count": 10,
     "metadata": {},
     "output_type": "execute_result"
    }
   ],
   "execution_count": 10
  },
  {
   "cell_type": "code",
   "id": "952f48b1-e63c-4976-b7d5-d4dd69866b75",
   "metadata": {
    "ExecuteTime": {
     "end_time": "2025-08-28T16:05:18.776892Z",
     "start_time": "2025-08-28T16:05:18.772888Z"
    }
   },
   "source": [
    "print(\"PV:\", round(network.generators.p_nom_opt.PV / pv_p_per_m2,2),\"m2\")\n",
    "print(\"Flachkollektor:\",round(network.generators.p_nom_opt.collector / col_p_per_m2,2),\"m2\")"
   ],
   "outputs": [
    {
     "name": "stdout",
     "output_type": "stream",
     "text": [
      "PV: 28.01 m2\n",
      "Flachkollektor: 2.29 m2\n"
     ]
    }
   ],
   "execution_count": 11
  },
  {
   "cell_type": "code",
   "id": "8d4938a0-cb98-425a-94f4-738fb1d59d89",
   "metadata": {
    "ExecuteTime": {
     "end_time": "2025-08-28T16:05:19.060485Z",
     "start_time": "2025-08-28T16:05:18.852200Z"
    }
   },
   "source": [
    "network.generators_t.p.plot(alpha=0.5)"
   ],
   "outputs": [
    {
     "data": {
      "text/plain": [
       "<Axes: xlabel='snapshot'>"
      ]
     },
     "execution_count": 12,
     "metadata": {},
     "output_type": "execute_result"
    },
    {
     "data": {
      "text/plain": [
       "<Figure size 640x480 with 1 Axes>"
      ],
      "image/png": "[encoded data removed]"
     },
     "metadata": {},
     "output_type": "display_data"
    }
   ],
   "execution_count": 12
  },
  {
   "cell_type": "markdown",
   "id": "8ef9561e",
   "metadata": {},
   "source": [
    "Erstellen Sie nun eine Custom Constraint, welche die Dachflächen-Limitierung abbildet. <br>\n",
    "Erstellen Sie hierzu zunächst eine Kopie des PyPSA Netzwerks als Modell. <br>\n",
    "Fügen Sie diesem Modell eine Nebenbedingung hinzu und lösen Sie das Modell."
   ]
  },
  {
   "cell_type": "code",
   "id": "3de5d2fb-cd13-492d-9724-fd6e2a2ac94e",
   "metadata": {
    "ExecuteTime": {
     "end_time": "2025-08-28T16:05:19.611503Z",
     "start_time": "2025-08-28T16:05:19.079196Z"
    }
   },
   "source": [
    "model = network.optimize.create_model()"
   ],
   "outputs": [
    {
     "name": "stderr",
     "output_type": "stream",
     "text": [
      "WARNING:pypsa.consistency:The following links have carriers which are not defined:\n",
      "Index(['heating_rod'], dtype='object', name='Link')\n",
      "WARNING:pypsa.consistency:The following stores have carriers which are not defined:\n",
      "Index(['heat_store'], dtype='object', name='Store')\n",
      "WARNING:pypsa.consistency:The following buses have carriers which are not defined:\n",
      "Index(['thermal', 'electricity'], dtype='object', name='Bus')\n"
     ]
    }
   ],
   "execution_count": 13
  },
  {
   "cell_type": "code",
   "id": "a854e552-5d18-4c30-82d2-bfd7689008b8",
   "metadata": {
    "ExecuteTime": {
     "end_time": "2025-08-28T16:05:19.631475Z",
     "start_time": "2025-08-28T16:05:19.623517Z"
    }
   },
   "source": [
    "model_pv_p_nom = model.variables['Generator-p_nom'].at['PV']\n",
    "model_col_p_nom = model.variables['Generator-p_nom'].at['collector']\n",
    "\n",
    "constraint_expression = model_pv_p_nom/pv_p_per_m2 +  model_col_p_nom/col_p_per_m2 <= 20 \n",
    "model.add_constraints(constraint_expression, name = 'Flächenbegrenzung')"
   ],
   "outputs": [
    {
     "data": {
      "text/plain": [
       "Constraint `Flächenbegrenzung`\n",
       "------------------------------\n",
       "+5 Generator-p_nom[PV] + 1.242 Generator-p_nom[collector] ≤ 20"
      ]
     },
     "execution_count": 14,
     "metadata": {},
     "output_type": "execute_result"
    }
   ],
   "execution_count": 14
  },
  {
   "cell_type": "markdown",
   "id": "ff4393c2",
   "metadata": {},
   "source": [
    "Lassen Sie sich erneut die Auslegung ausgeben und berechnen Sie ob die Dachflächenlimitierung eingehalten wurde"
   ]
  },
  {
   "cell_type": "code",
   "id": "c14a9ced-b505-46c9-b92f-f6d56bd65bd1",
   "metadata": {
    "ExecuteTime": {
     "end_time": "2025-08-28T16:05:21.730078Z",
     "start_time": "2025-08-28T16:05:19.762208Z"
    }
   },
   "source": [
    "network.optimize.solve_model(solver_name='gurobi', threads = 1, method = 1)"
   ],
   "outputs": [
    {
     "name": "stderr",
     "output_type": "stream",
     "text": [
      "INFO:linopy.model: Solve problem using Gurobi solver\n",
      "INFO:linopy.model:Solver options:\n",
      " - threads: 1\n",
      " - method: 1\n",
      "INFO:linopy.io:Writing objective.\n",
      "Writing constraints.: 100%|\u001B[38;2;128;191;255m██████████\u001B[0m| 13/13 [00:00<00:00, 23.44it/s]\n",
      "Writing continuous variables.: 100%|\u001B[38;2;128;191;255m██████████\u001B[0m| 5/5 [00:00<00:00, 36.73it/s]\n",
      "INFO:linopy.io: Writing time: 0.74s\n"
     ]
    },
    {
     "name": "stdout",
     "output_type": "stream",
     "text": [
      "Set parameter Username\n"
     ]
    },
    {
     "name": "stderr",
     "output_type": "stream",
     "text": [
      "INFO:gurobipy:Set parameter Username\n"
     ]
    },
    {
     "name": "stdout",
     "output_type": "stream",
     "text": [
      "Set parameter LicenseID to value 2694931\n"
     ]
    },
    {
     "name": "stderr",
     "output_type": "stream",
     "text": [
      "INFO:gurobipy:Set parameter LicenseID to value 2694931\n"
     ]
    },
    {
     "name": "stdout",
     "output_type": "stream",
     "text": [
      "Academic license - for non-commercial use only - expires 2026-08-11\n"
     ]
    },
    {
     "name": "stderr",
     "output_type": "stream",
     "text": [
      "INFO:gurobipy:Academic license - for non-commercial use only - expires 2026-08-11\n"
     ]
    },
    {
     "name": "stdout",
     "output_type": "stream",
     "text": [
      "Read LP format model from file C:\\Users\\sarah\\AppData\\Local\\Temp\\linopy-problem-5yn0_ni9.lp\n"
     ]
    },
    {
     "name": "stderr",
     "output_type": "stream",
     "text": [
      "INFO:gurobipy:Read LP format model from file C:\\Users\\sarah\\AppData\\Local\\Temp\\linopy-problem-5yn0_ni9.lp\n"
     ]
    },
    {
     "name": "stdout",
     "output_type": "stream",
     "text": [
      "Reading time = 0.18 seconds\n"
     ]
    },
    {
     "name": "stderr",
     "output_type": "stream",
     "text": [
      "INFO:gurobipy:Reading time = 0.18 seconds\n"
     ]
    },
    {
     "name": "stdout",
     "output_type": "stream",
     "text": [
      "obj: 122643 rows, 61322 columns, 191153 nonzeros\n"
     ]
    },
    {
     "name": "stderr",
     "output_type": "stream",
     "text": [
      "INFO:gurobipy:obj: 122643 rows, 61322 columns, 191153 nonzeros\n"
     ]
    },
    {
     "name": "stdout",
     "output_type": "stream",
     "text": [
      "Set parameter Threads to value 1\n"
     ]
    },
    {
     "name": "stderr",
     "output_type": "stream",
     "text": [
      "INFO:gurobipy:Set parameter Threads to value 1\n"
     ]
    },
    {
     "name": "stdout",
     "output_type": "stream",
     "text": [
      "Set parameter Method to value 1\n"
     ]
    },
    {
     "name": "stderr",
     "output_type": "stream",
     "text": [
      "INFO:gurobipy:Set parameter Method to value 1\n"
     ]
    },
    {
     "name": "stdout",
     "output_type": "stream",
     "text": [
      "Gurobi Optimizer version 12.0.2 build v12.0.2rc0 (win64 - Windows 10.0 (19045.2))\n"
     ]
    },
    {
     "name": "stderr",
     "output_type": "stream",
     "text": [
      "INFO:gurobipy:Gurobi Optimizer version 12.0.2 build v12.0.2rc0 (win64 - Windows 10.0 (19045.2))\n"
     ]
    },
    {
     "name": "stdout",
     "output_type": "stream",
     "text": [
      "\n"
     ]
    },
    {
     "name": "stderr",
     "output_type": "stream",
     "text": [
      "INFO:gurobipy:\n"
     ]
    },
    {
     "name": "stdout",
     "output_type": "stream",
     "text": [
      "CPU model: AMD Ryzen 7 5800X3D 8-Core Processor, instruction set [SSE2|AVX|AVX2]\n"
     ]
    },
    {
     "name": "stderr",
     "output_type": "stream",
     "text": [
      "INFO:gurobipy:CPU model: AMD Ryzen 7 5800X3D 8-Core Processor, instruction set [SSE2|AVX|AVX2]\n"
     ]
    },
    {
     "name": "stdout",
     "output_type": "stream",
     "text": [
      "Thread count: 8 physical cores, 16 logical processors, using up to 1 threads\n"
     ]
    },
    {
     "name": "stderr",
     "output_type": "stream",
     "text": [
      "INFO:gurobipy:Thread count: 8 physical cores, 16 logical processors, using up to 1 threads\n"
     ]
    },
    {
     "name": "stdout",
     "output_type": "stream",
     "text": [
      "\n"
     ]
    },
    {
     "name": "stderr",
     "output_type": "stream",
     "text": [
      "INFO:gurobipy:\n"
     ]
    },
    {
     "name": "stdout",
     "output_type": "stream",
     "text": [
      "Non-default parameters:\n"
     ]
    },
    {
     "name": "stderr",
     "output_type": "stream",
     "text": [
      "INFO:gurobipy:Non-default parameters:\n"
     ]
    },
    {
     "name": "stdout",
     "output_type": "stream",
     "text": [
      "Method  1\n"
     ]
    },
    {
     "name": "stderr",
     "output_type": "stream",
     "text": [
      "INFO:gurobipy:Method  1\n"
     ]
    },
    {
     "name": "stdout",
     "output_type": "stream",
     "text": [
      "Threads  1\n"
     ]
    },
    {
     "name": "stderr",
     "output_type": "stream",
     "text": [
      "INFO:gurobipy:Threads  1\n"
     ]
    },
    {
     "name": "stdout",
     "output_type": "stream",
     "text": [
      "\n"
     ]
    },
    {
     "name": "stderr",
     "output_type": "stream",
     "text": [
      "INFO:gurobipy:\n"
     ]
    },
    {
     "name": "stdout",
     "output_type": "stream",
     "text": [
      "Optimize a model with 122643 rows, 61322 columns and 191153 nonzeros\n"
     ]
    },
    {
     "name": "stderr",
     "output_type": "stream",
     "text": [
      "INFO:gurobipy:Optimize a model with 122643 rows, 61322 columns and 191153 nonzeros\n"
     ]
    },
    {
     "name": "stdout",
     "output_type": "stream",
     "text": [
      "Model fingerprint: 0x689bdcd7\n"
     ]
    },
    {
     "name": "stderr",
     "output_type": "stream",
     "text": [
      "INFO:gurobipy:Model fingerprint: 0x689bdcd7\n"
     ]
    },
    {
     "name": "stdout",
     "output_type": "stream",
     "text": [
      "Coefficient statistics:\n"
     ]
    },
    {
     "name": "stderr",
     "output_type": "stream",
     "text": [
      "INFO:gurobipy:Coefficient statistics:\n"
     ]
    },
    {
     "name": "stdout",
     "output_type": "stream",
     "text": [
      "  Matrix range     [1e-03, 5e+00]\n"
     ]
    },
    {
     "name": "stderr",
     "output_type": "stream",
     "text": [
      "INFO:gurobipy:  Matrix range     [1e-03, 5e+00]\n"
     ]
    },
    {
     "name": "stdout",
     "output_type": "stream",
     "text": [
      "  Objective range  [1e-01, 5e+01]\n"
     ]
    },
    {
     "name": "stderr",
     "output_type": "stream",
     "text": [
      "INFO:gurobipy:  Objective range  [1e-01, 5e+01]\n"
     ]
    },
    {
     "name": "stdout",
     "output_type": "stream",
     "text": [
      "  Bounds range     [0e+00, 0e+00]\n"
     ]
    },
    {
     "name": "stderr",
     "output_type": "stream",
     "text": [
      "INFO:gurobipy:  Bounds range     [0e+00, 0e+00]\n"
     ]
    },
    {
     "name": "stdout",
     "output_type": "stream",
     "text": [
      "  RHS range        [2e-03, 2e+01]\n"
     ]
    },
    {
     "name": "stderr",
     "output_type": "stream",
     "text": [
      "INFO:gurobipy:  RHS range        [2e-03, 2e+01]\n"
     ]
    },
    {
     "name": "stdout",
     "output_type": "stream",
     "text": [
      "Presolve removed 105177 rows and 32283 columns\n"
     ]
    },
    {
     "name": "stderr",
     "output_type": "stream",
     "text": [
      "INFO:gurobipy:Presolve removed 105177 rows and 32283 columns\n"
     ]
    },
    {
     "name": "stdout",
     "output_type": "stream",
     "text": [
      "Presolve time: 0.10s\n"
     ]
    },
    {
     "name": "stderr",
     "output_type": "stream",
     "text": [
      "INFO:gurobipy:Presolve time: 0.10s\n"
     ]
    },
    {
     "name": "stdout",
     "output_type": "stream",
     "text": [
      "Presolved: 17466 rows, 29039 columns, 52346 nonzeros\n"
     ]
    },
    {
     "name": "stderr",
     "output_type": "stream",
     "text": [
      "INFO:gurobipy:Presolved: 17466 rows, 29039 columns, 52346 nonzeros\n"
     ]
    },
    {
     "name": "stdout",
     "output_type": "stream",
     "text": [
      "\n"
     ]
    },
    {
     "name": "stderr",
     "output_type": "stream",
     "text": [
      "INFO:gurobipy:\n"
     ]
    },
    {
     "name": "stdout",
     "output_type": "stream",
     "text": [
      "Iteration    Objective       Primal Inf.    Dual Inf.      Time\n"
     ]
    },
    {
     "name": "stderr",
     "output_type": "stream",
     "text": [
      "INFO:gurobipy:Iteration    Objective       Primal Inf.    Dual Inf.      Time\n"
     ]
    },
    {
     "name": "stdout",
     "output_type": "stream",
     "text": [
      "       0    1.1530578e+03   2.911081e+04   0.000000e+00      0s\n"
     ]
    },
    {
     "name": "stderr",
     "output_type": "stream",
     "text": [
      "INFO:gurobipy:       0    1.1530578e+03   2.911081e+04   0.000000e+00      0s\n"
     ]
    },
    {
     "name": "stdout",
     "output_type": "stream",
     "text": [
      "    7849    4.0078048e+03   0.000000e+00   0.000000e+00      0s\n"
     ]
    },
    {
     "name": "stderr",
     "output_type": "stream",
     "text": [
      "INFO:gurobipy:    7849    4.0078048e+03   0.000000e+00   0.000000e+00      0s\n"
     ]
    },
    {
     "name": "stdout",
     "output_type": "stream",
     "text": [
      "\n"
     ]
    },
    {
     "name": "stderr",
     "output_type": "stream",
     "text": [
      "INFO:gurobipy:\n"
     ]
    },
    {
     "name": "stdout",
     "output_type": "stream",
     "text": [
      "Solved in 7849 iterations and 0.19 seconds (0.29 work units)\n"
     ]
    },
    {
     "name": "stderr",
     "output_type": "stream",
     "text": [
      "INFO:gurobipy:Solved in 7849 iterations and 0.19 seconds (0.29 work units)\n"
     ]
    },
    {
     "name": "stdout",
     "output_type": "stream",
     "text": [
      "Optimal objective  4.007804845e+03\n"
     ]
    },
    {
     "name": "stderr",
     "output_type": "stream",
     "text": [
      "INFO:gurobipy:Optimal objective  4.007804845e+03\n",
      "INFO:linopy.constants: Optimization successful: \n",
      "Status: ok\n",
      "Termination condition: optimal\n",
      "Solution: 61322 primals, 122643 duals\n",
      "Objective: 4.01e+03\n",
      "Solver model: available\n",
      "Solver message: 2\n",
      "\n",
      "INFO:pypsa.optimization.optimize:The shadow-prices of the constraints Generator-fix-p-lower, Generator-fix-p-upper, Generator-ext-p-lower, Generator-ext-p-upper, Link-fix-p-lower, Link-fix-p-upper, Store-fix-e-lower, Store-fix-e-upper, Store-energy_balance, Flächenbegrenzung were not assigned to the network.\n"
     ]
    },
    {
     "data": {
      "text/plain": [
       "('ok', 'optimal')"
      ]
     },
     "execution_count": 15,
     "metadata": {},
     "output_type": "execute_result"
    }
   ],
   "execution_count": 15
  },
  {
   "cell_type": "code",
   "id": "125559e1-0f4d-4cad-818c-8d58fff3f88f",
   "metadata": {
    "ExecuteTime": {
     "end_time": "2025-08-28T16:05:21.767756Z",
     "start_time": "2025-08-28T16:05:21.763752Z"
    }
   },
   "source": [
    "print(\"PV: \\n\",round(network.generators.p_nom_opt.PV,),\"kWp \\n\", round(network.generators.p_nom_opt.PV / pv_p_per_m2,2),\"m2\")\n",
    "print(\"Flachkollektor: \\n\",round(network.generators.p_nom_opt.collector,2),\"max. kW_th \\n\",round(network.generators.p_nom_opt.collector / col_p_per_m2,2),\"m2\")"
   ],
   "outputs": [
    {
     "name": "stdout",
     "output_type": "stream",
     "text": [
      "PV: \n",
      " 3 kWp \n",
      " 16.98 m2\n",
      "Flachkollektor: \n",
      " 2.43 max. kW_th \n",
      " 3.02 m2\n"
     ]
    }
   ],
   "execution_count": 16
  },
  {
   "cell_type": "markdown",
   "id": "df16e9c9",
   "metadata": {},
   "source": [
    "### b. Wärmepumpe"
   ]
  },
  {
   "cell_type": "markdown",
   "id": "023bd60e",
   "metadata": {},
   "source": [
    "Implementieren Sie nun die Wärmepumpe. <br>\n",
    "Verwenden Sie hierzu die selben Daten wie aus Übung PyPSA 03. <br> \n",
    "Beachten Sie dieses mal jedoch zusätzlich die minimale thermische Leistung über das Attribut 'p_min_pu'."
   ]
  },
  {
   "cell_type": "code",
   "id": "28881e98-2a35-4131-a3e9-385afcf93af1",
   "metadata": {
    "ExecuteTime": {
     "end_time": "2025-08-28T16:05:21.864968Z",
     "start_time": "2025-08-28T16:05:21.860470Z"
    }
   },
   "source": [
    "T_VL        =   55 #°C\n",
    "temp        =   [ -20, -15, -10,  -7,   2,   7,  10,  20,  30,  35] #°C\n",
    "el_power    =   [3.87,4.20,4.45,4.60,2.25,2.23,2.27,2.33,2.27,2.27] #kW\n",
    "cop         =   [1.81,1.98,2.18,2.30,2.83,3.40,3.66,4.80,6.37,6.37]\n",
    "min_th_p    =   [2.70,2.74,2.48,2.32,3.03,3.51,3.84,5.07,6.10,6.10] #kW\n",
    "hp_p_nom    =   1.56 #kW"
   ],
   "outputs": [],
   "execution_count": 17
  },
  {
   "cell_type": "code",
   "id": "0b437658-fd48-4880-a039-6972af5ce774",
   "metadata": {
    "ExecuteTime": {
     "end_time": "2025-08-28T16:05:22.029109Z",
     "start_time": "2025-08-28T16:05:21.901978Z"
    }
   },
   "source": [
    "df_data[\"hp_th_p_min\"]     = np.interp(df_data['temperature'],temp,min_th_p)\n",
    "df_data[\"hp_el_p_min_pu\"]  = (df_data['hp_th_p_min'] / (df_data[\"hp_COP\"] * hp_p_nom)) \n",
    "df_data.loc[:,[\"hp_el_p_min_pu\",\"hp_el_p_max_pu\"]].plot()"
   ],
   "outputs": [
    {
     "data": {
      "text/plain": [
       "<Axes: >"
      ]
     },
     "execution_count": 18,
     "metadata": {},
     "output_type": "execute_result"
    },
    {
     "data": {
      "text/plain": [
       "<Figure size 640x480 with 1 Axes>"
      ],
      "image/png": "[encoded data removed]"
     },
     "metadata": {},
     "output_type": "display_data"
    }
   ],
   "execution_count": 18
  },
  {
   "cell_type": "code",
   "id": "0e73593b-21d0-4a36-a8e0-df8c62d68490",
   "metadata": {
    "ExecuteTime": {
     "end_time": "2025-08-28T16:05:22.065990Z",
     "start_time": "2025-08-28T16:05:22.043624Z"
    }
   },
   "source": [
    "heatpump_eff        = df_data[\"hp_COP\"] \n",
    "heatpump_p_max_pu   = df_data[\"hp_el_p_max_pu\"] \n",
    "heatpump_p_min_pu   = df_data[\"hp_el_p_min_pu\"]\n",
    "\n",
    "network.add('Link', name = 'heatpump', \n",
    "            bus0 = 'electricity', \n",
    "            bus1 = 'thermal',\n",
    "            p_nom = hp_p_nom, \n",
    "            committable = True,  \n",
    "            p_max_pu = heatpump_p_max_pu,\n",
    "            p_min_pu = heatpump_p_min_pu, \n",
    "            efficiency = heatpump_eff)"
   ],
   "outputs": [
    {
     "data": {
      "text/plain": [
       "Index(['heatpump'], dtype='object')"
      ]
     },
     "execution_count": 19,
     "metadata": {},
     "output_type": "execute_result"
    }
   ],
   "execution_count": 19
  },
  {
   "cell_type": "markdown",
   "id": "3efb469a",
   "metadata": {},
   "source": [
    "Erstellen Sie nun erneut eine Kopie des Netzwerks als Modell und fügen Sie diesem neben der Flächenbegrenzung ebenfalls eine Nebenbedingung zur Einhaltung des GEG hinzu.<br>\n",
    "(Der Heizstab soll als nicht erneuerbare Technologie betrachtet werden)"
   ]
  },
  {
   "cell_type": "code",
   "id": "22505aa9-0ed6-4b8c-b673-fd2310471551",
   "metadata": {
    "ExecuteTime": {
     "end_time": "2025-08-28T16:05:23.888251Z",
     "start_time": "2025-08-28T16:05:22.110046Z"
    }
   },
   "source": [
    "model = network.optimize.create_model()\n",
    "#Flächenbegrenzung\n",
    "model_pv_p_nom  = model.variables[\"Generator-p_nom\"].at['PV']\n",
    "model_col_p_nom = model.variables[\"Generator-p_nom\"].at['collector']\n",
    "\n",
    "constraint_expression = 20 >= model_pv_p_nom/pv_p_per_m2 + model_col_p_nom/col_p_per_m2\n",
    "model.add_constraints(constraint_expression, name=\"Flächenbegrenzung\")\n",
    "\n",
    "#65% EE\n",
    "model_boiler_p  = model.variables[\"Generator-p\"].sel(Generator='boiler')\n",
    "model_hr_p      = model.variables[\"Link-p\"].sel(Link='heating_rod')\n",
    "con_ee_limit = (sum(model_boiler_p[t] + model_hr_p[t]*heating_rod_eff \n",
    "                    for t in df_data.index) \n",
    "                <= 0.35 * df_data[\"heat_load\"].sum())\n",
    "model.add_constraints(con_ee_limit, name=\"EE-Limit\")"
   ],
   "outputs": [
    {
     "name": "stderr",
     "output_type": "stream",
     "text": [
      "WARNING:pypsa.consistency:The following links have carriers which are not defined:\n",
      "Index(['heating_rod', 'heatpump'], dtype='object', name='Link')\n",
      "WARNING:pypsa.consistency:The following stores have carriers which are not defined:\n",
      "Index(['heat_store'], dtype='object', name='Store')\n",
      "WARNING:pypsa.consistency:The following buses have carriers which are not defined:\n",
      "Index(['thermal', 'electricity'], dtype='object', name='Bus')\n",
      "C:\\Users\\sarah\\anaconda3\\Lib\\site-packages\\linopy\\variables.py:197: FutureWarning:\n",
      "\n",
      "Accessing a single value with `Variable[...]` and return type ScalarVariable is deprecated. In future, this will return a Variable.To get a ScalarVariable use `Variable.at[...]` instead.\n",
      "\n"
     ]
    },
    {
     "data": {
      "text/plain": [
       "Constraint `EE-Limit`\n",
       "---------------------\n",
       "+1 Generator-p[0, boiler] + 0.99 Link-p[0, heating_rod] + 1 Generator-p[1, boiler] ... +0.99 Link-p[8758, heating_rod] + 1 Generator-p[8759, boiler] + 0.99 Link-p[8759, heating_rod] ≤ 7851.441290000001"
      ]
     },
     "execution_count": 20,
     "metadata": {},
     "output_type": "execute_result"
    }
   ],
   "execution_count": 20
  },
  {
   "cell_type": "code",
   "id": "42695e64-5b88-4bb4-bb47-19bd2f973d8a",
   "metadata": {
    "ExecuteTime": {
     "end_time": "2025-08-28T16:05:23.924366Z",
     "start_time": "2025-08-28T16:05:23.921363Z"
    }
   },
   "source": [],
   "outputs": [],
   "execution_count": null
  },
  {
   "cell_type": "markdown",
   "id": "de320d85",
   "metadata": {},
   "source": [
    "Lösen Sie das Modell"
   ]
  },
  {
   "cell_type": "code",
   "id": "e26ff2a1-7a09-42f0-9d9d-b2815505fd8b",
   "metadata": {
    "collapsed": true,
    "jupyter": {
     "outputs_hidden": true
    },
    "ExecuteTime": {
     "end_time": "2025-08-28T16:06:28.106986Z",
     "start_time": "2025-08-28T16:05:24.065024Z"
    }
   },
   "source": [
    "network.optimize.solve_model(solver_name='gurobi', method = 1, threads = 1)"
   ],
   "outputs": [
    {
     "name": "stderr",
     "output_type": "stream",
     "text": [
      "INFO:linopy.model: Solve problem using Gurobi solver\n",
      "INFO:linopy.model:Solver options:\n",
      " - method: 1\n",
      " - threads: 1\n",
      "INFO:linopy.io:Writing objective.\n",
      "Writing constraints.: 100%|\u001B[38;2;128;191;255m██████████\u001B[0m| 19/19 [00:00<00:00, 21.67it/s]\n",
      "Writing continuous variables.: 100%|\u001B[38;2;128;191;255m██████████\u001B[0m| 5/5 [00:00<00:00, 31.42it/s]\n",
      "Writing binary variables.: 100%|\u001B[38;2;128;191;255m██████████\u001B[0m| 3/3 [00:00<00:00, 103.35it/s]\n",
      "INFO:linopy.io: Writing time: 1.11s\n"
     ]
    },
    {
     "name": "stdout",
     "output_type": "stream",
     "text": [
      "Set parameter Username\n"
     ]
    },
    {
     "name": "stderr",
     "output_type": "stream",
     "text": [
      "INFO:gurobipy:Set parameter Username\n"
     ]
    },
    {
     "name": "stdout",
     "output_type": "stream",
     "text": [
      "Set parameter LicenseID to value 2694931\n"
     ]
    },
    {
     "name": "stderr",
     "output_type": "stream",
     "text": [
      "INFO:gurobipy:Set parameter LicenseID to value 2694931\n"
     ]
    },
    {
     "name": "stdout",
     "output_type": "stream",
     "text": [
      "Academic license - for non-commercial use only - expires 2026-08-11\n"
     ]
    },
    {
     "name": "stderr",
     "output_type": "stream",
     "text": [
      "INFO:gurobipy:Academic license - for non-commercial use only - expires 2026-08-11\n"
     ]
    },
    {
     "name": "stdout",
     "output_type": "stream",
     "text": [
      "Read LP format model from file C:\\Users\\sarah\\AppData\\Local\\Temp\\linopy-problem-oa0l8by3.lp\n"
     ]
    },
    {
     "name": "stderr",
     "output_type": "stream",
     "text": [
      "INFO:gurobipy:Read LP format model from file C:\\Users\\sarah\\AppData\\Local\\Temp\\linopy-problem-oa0l8by3.lp\n"
     ]
    },
    {
     "name": "stdout",
     "output_type": "stream",
     "text": [
      "Reading time = 0.24 seconds\n"
     ]
    },
    {
     "name": "stderr",
     "output_type": "stream",
     "text": [
      "INFO:gurobipy:Reading time = 0.24 seconds\n"
     ]
    },
    {
     "name": "stdout",
     "output_type": "stream",
     "text": [
      "obj: 157684 rows, 96362 columns, 313791 nonzeros\n"
     ]
    },
    {
     "name": "stderr",
     "output_type": "stream",
     "text": [
      "INFO:gurobipy:obj: 157684 rows, 96362 columns, 313791 nonzeros\n"
     ]
    },
    {
     "name": "stdout",
     "output_type": "stream",
     "text": [
      "Set parameter Method to value 1\n"
     ]
    },
    {
     "name": "stderr",
     "output_type": "stream",
     "text": [
      "INFO:gurobipy:Set parameter Method to value 1\n"
     ]
    },
    {
     "name": "stdout",
     "output_type": "stream",
     "text": [
      "Set parameter Threads to value 1\n"
     ]
    },
    {
     "name": "stderr",
     "output_type": "stream",
     "text": [
      "INFO:gurobipy:Set parameter Threads to value 1\n"
     ]
    },
    {
     "name": "stdout",
     "output_type": "stream",
     "text": [
      "Gurobi Optimizer version 12.0.2 build v12.0.2rc0 (win64 - Windows 10.0 (19045.2))\n"
     ]
    },
    {
     "name": "stderr",
     "output_type": "stream",
     "text": [
      "INFO:gurobipy:Gurobi Optimizer version 12.0.2 build v12.0.2rc0 (win64 - Windows 10.0 (19045.2))\n"
     ]
    },
    {
     "name": "stdout",
     "output_type": "stream",
     "text": [
      "\n"
     ]
    },
    {
     "name": "stderr",
     "output_type": "stream",
     "text": [
      "INFO:gurobipy:\n"
     ]
    },
    {
     "name": "stdout",
     "output_type": "stream",
     "text": [
      "CPU model: AMD Ryzen 7 5800X3D 8-Core Processor, instruction set [SSE2|AVX|AVX2]\n"
     ]
    },
    {
     "name": "stderr",
     "output_type": "stream",
     "text": [
      "INFO:gurobipy:CPU model: AMD Ryzen 7 5800X3D 8-Core Processor, instruction set [SSE2|AVX|AVX2]\n"
     ]
    },
    {
     "name": "stdout",
     "output_type": "stream",
     "text": [
      "Thread count: 8 physical cores, 16 logical processors, using up to 1 threads\n"
     ]
    },
    {
     "name": "stderr",
     "output_type": "stream",
     "text": [
      "INFO:gurobipy:Thread count: 8 physical cores, 16 logical processors, using up to 1 threads\n"
     ]
    },
    {
     "name": "stdout",
     "output_type": "stream",
     "text": [
      "\n"
     ]
    },
    {
     "name": "stderr",
     "output_type": "stream",
     "text": [
      "INFO:gurobipy:\n"
     ]
    },
    {
     "name": "stdout",
     "output_type": "stream",
     "text": [
      "Non-default parameters:\n"
     ]
    },
    {
     "name": "stderr",
     "output_type": "stream",
     "text": [
      "INFO:gurobipy:Non-default parameters:\n"
     ]
    },
    {
     "name": "stdout",
     "output_type": "stream",
     "text": [
      "Method  1\n"
     ]
    },
    {
     "name": "stderr",
     "output_type": "stream",
     "text": [
      "INFO:gurobipy:Method  1\n"
     ]
    },
    {
     "name": "stdout",
     "output_type": "stream",
     "text": [
      "Threads  1\n"
     ]
    },
    {
     "name": "stderr",
     "output_type": "stream",
     "text": [
      "INFO:gurobipy:Threads  1\n"
     ]
    },
    {
     "name": "stdout",
     "output_type": "stream",
     "text": [
      "\n"
     ]
    },
    {
     "name": "stderr",
     "output_type": "stream",
     "text": [
      "INFO:gurobipy:\n"
     ]
    },
    {
     "name": "stdout",
     "output_type": "stream",
     "text": [
      "Optimize a model with 157684 rows, 96362 columns and 313791 nonzeros\n"
     ]
    },
    {
     "name": "stderr",
     "output_type": "stream",
     "text": [
      "INFO:gurobipy:Optimize a model with 157684 rows, 96362 columns and 313791 nonzeros\n"
     ]
    },
    {
     "name": "stdout",
     "output_type": "stream",
     "text": [
      "Model fingerprint: 0x23dd2c6f\n"
     ]
    },
    {
     "name": "stderr",
     "output_type": "stream",
     "text": [
      "INFO:gurobipy:Model fingerprint: 0x23dd2c6f\n"
     ]
    },
    {
     "name": "stdout",
     "output_type": "stream",
     "text": [
      "Variable types: 70082 continuous, 26280 integer (26280 binary)\n"
     ]
    },
    {
     "name": "stderr",
     "output_type": "stream",
     "text": [
      "INFO:gurobipy:Variable types: 70082 continuous, 26280 integer (26280 binary)\n"
     ]
    },
    {
     "name": "stdout",
     "output_type": "stream",
     "text": [
      "Coefficient statistics:\n"
     ]
    },
    {
     "name": "stderr",
     "output_type": "stream",
     "text": [
      "INFO:gurobipy:Coefficient statistics:\n"
     ]
    },
    {
     "name": "stdout",
     "output_type": "stream",
     "text": [
      "  Matrix range     [1e-03, 6e+00]\n"
     ]
    },
    {
     "name": "stderr",
     "output_type": "stream",
     "text": [
      "INFO:gurobipy:  Matrix range     [1e-03, 6e+00]\n"
     ]
    },
    {
     "name": "stdout",
     "output_type": "stream",
     "text": [
      "  Objective range  [1e-01, 5e+01]\n"
     ]
    },
    {
     "name": "stderr",
     "output_type": "stream",
     "text": [
      "INFO:gurobipy:  Objective range  [1e-01, 5e+01]\n"
     ]
    },
    {
     "name": "stdout",
     "output_type": "stream",
     "text": [
      "  Bounds range     [1e+00, 1e+00]\n"
     ]
    },
    {
     "name": "stderr",
     "output_type": "stream",
     "text": [
      "INFO:gurobipy:  Bounds range     [1e+00, 1e+00]\n"
     ]
    },
    {
     "name": "stdout",
     "output_type": "stream",
     "text": [
      "  RHS range        [2e-03, 8e+03]\n"
     ]
    },
    {
     "name": "stderr",
     "output_type": "stream",
     "text": [
      "INFO:gurobipy:  RHS range        [2e-03, 8e+03]\n"
     ]
    },
    {
     "name": "stdout",
     "output_type": "stream",
     "text": [
      "Presolve removed 128198 rows and 57958 columns\n"
     ]
    },
    {
     "name": "stderr",
     "output_type": "stream",
     "text": [
      "INFO:gurobipy:Presolve removed 128198 rows and 57958 columns\n"
     ]
    },
    {
     "name": "stdout",
     "output_type": "stream",
     "text": [
      "Presolve time: 0.24s\n"
     ]
    },
    {
     "name": "stderr",
     "output_type": "stream",
     "text": [
      "INFO:gurobipy:Presolve time: 0.24s\n"
     ]
    },
    {
     "name": "stdout",
     "output_type": "stream",
     "text": [
      "Presolved: 29486 rows, 38404 columns, 109025 nonzeros\n"
     ]
    },
    {
     "name": "stderr",
     "output_type": "stream",
     "text": [
      "INFO:gurobipy:Presolved: 29486 rows, 38404 columns, 109025 nonzeros\n"
     ]
    },
    {
     "name": "stdout",
     "output_type": "stream",
     "text": [
      "Variable types: 29644 continuous, 8760 integer (8760 binary)\n"
     ]
    },
    {
     "name": "stderr",
     "output_type": "stream",
     "text": [
      "INFO:gurobipy:Variable types: 29644 continuous, 8760 integer (8760 binary)\n"
     ]
    },
    {
     "name": "stdout",
     "output_type": "stream",
     "text": [
      "\n"
     ]
    },
    {
     "name": "stderr",
     "output_type": "stream",
     "text": [
      "INFO:gurobipy:\n"
     ]
    },
    {
     "name": "stdout",
     "output_type": "stream",
     "text": [
      "Root relaxation: objective 3.594071e+03, 14239 iterations, 0.13 seconds (0.22 work units)\n"
     ]
    },
    {
     "name": "stderr",
     "output_type": "stream",
     "text": [
      "INFO:gurobipy:Root relaxation: objective 3.594071e+03, 14239 iterations, 0.13 seconds (0.22 work units)\n"
     ]
    },
    {
     "name": "stdout",
     "output_type": "stream",
     "text": [
      "\n"
     ]
    },
    {
     "name": "stderr",
     "output_type": "stream",
     "text": [
      "INFO:gurobipy:\n"
     ]
    },
    {
     "name": "stdout",
     "output_type": "stream",
     "text": [
      "    Nodes    |    Current Node    |     Objective Bounds      |     Work\n"
     ]
    },
    {
     "name": "stderr",
     "output_type": "stream",
     "text": [
      "INFO:gurobipy:    Nodes    |    Current Node    |     Objective Bounds      |     Work\n"
     ]
    },
    {
     "name": "stdout",
     "output_type": "stream",
     "text": [
      " Expl Unexpl |  Obj  Depth IntInf | Incumbent    BestBd   Gap | It/Node Time\n"
     ]
    },
    {
     "name": "stderr",
     "output_type": "stream",
     "text": [
      "INFO:gurobipy: Expl Unexpl |  Obj  Depth IntInf | Incumbent    BestBd   Gap | It/Node Time\n"
     ]
    },
    {
     "name": "stdout",
     "output_type": "stream",
     "text": [
      "\n"
     ]
    },
    {
     "name": "stderr",
     "output_type": "stream",
     "text": [
      "INFO:gurobipy:\n"
     ]
    },
    {
     "name": "stdout",
     "output_type": "stream",
     "text": [
      "     0     0 3594.07135    0 1131          - 3594.07135      -     -    1s\n"
     ]
    },
    {
     "name": "stderr",
     "output_type": "stream",
     "text": [
      "INFO:gurobipy:     0     0 3594.07135    0 1131          - 3594.07135      -     -    1s\n"
     ]
    },
    {
     "name": "stdout",
     "output_type": "stream",
     "text": [
      "     0     0 3605.06565    0  685          - 3605.06565      -     -    2s\n"
     ]
    },
    {
     "name": "stderr",
     "output_type": "stream",
     "text": [
      "INFO:gurobipy:     0     0 3605.06565    0  685          - 3605.06565      -     -    2s\n"
     ]
    },
    {
     "name": "stdout",
     "output_type": "stream",
     "text": [
      "     0     0 3605.38085    0  632          - 3605.38085      -     -    2s\n"
     ]
    },
    {
     "name": "stderr",
     "output_type": "stream",
     "text": [
      "INFO:gurobipy:     0     0 3605.38085    0  632          - 3605.38085      -     -    2s\n"
     ]
    },
    {
     "name": "stdout",
     "output_type": "stream",
     "text": [
      "     0     0 3605.42964    0  632          - 3605.42964      -     -    2s\n"
     ]
    },
    {
     "name": "stderr",
     "output_type": "stream",
     "text": [
      "INFO:gurobipy:     0     0 3605.42964    0  632          - 3605.42964      -     -    2s\n"
     ]
    },
    {
     "name": "stdout",
     "output_type": "stream",
     "text": [
      "     0     0 3606.52045    0  444          - 3606.52045      -     -    2s\n"
     ]
    },
    {
     "name": "stderr",
     "output_type": "stream",
     "text": [
      "INFO:gurobipy:     0     0 3606.52045    0  444          - 3606.52045      -     -    2s\n"
     ]
    },
    {
     "name": "stdout",
     "output_type": "stream",
     "text": [
      "     0     0 3606.57463    0  432          - 3606.57463      -     -    2s\n"
     ]
    },
    {
     "name": "stderr",
     "output_type": "stream",
     "text": [
      "INFO:gurobipy:     0     0 3606.57463    0  432          - 3606.57463      -     -    2s\n"
     ]
    },
    {
     "name": "stdout",
     "output_type": "stream",
     "text": [
      "     0     0 3606.57693    0  439          - 3606.57693      -     -    2s\n"
     ]
    },
    {
     "name": "stderr",
     "output_type": "stream",
     "text": [
      "INFO:gurobipy:     0     0 3606.57693    0  439          - 3606.57693      -     -    2s\n"
     ]
    },
    {
     "name": "stdout",
     "output_type": "stream",
     "text": [
      "     0     0 3606.77886    0  351          - 3606.77886      -     -    2s\n"
     ]
    },
    {
     "name": "stderr",
     "output_type": "stream",
     "text": [
      "INFO:gurobipy:     0     0 3606.77886    0  351          - 3606.77886      -     -    2s\n"
     ]
    },
    {
     "name": "stdout",
     "output_type": "stream",
     "text": [
      "     0     0 3606.80513    0  343          - 3606.80513      -     -    2s\n"
     ]
    },
    {
     "name": "stderr",
     "output_type": "stream",
     "text": [
      "INFO:gurobipy:     0     0 3606.80513    0  343          - 3606.80513      -     -    2s\n"
     ]
    },
    {
     "name": "stdout",
     "output_type": "stream",
     "text": [
      "     0     0 3606.80968    0  335          - 3606.80968      -     -    2s\n"
     ]
    },
    {
     "name": "stderr",
     "output_type": "stream",
     "text": [
      "INFO:gurobipy:     0     0 3606.80968    0  335          - 3606.80968      -     -    2s\n"
     ]
    },
    {
     "name": "stdout",
     "output_type": "stream",
     "text": [
      "     0     0 3606.80974    0  335          - 3606.80974      -     -    2s\n"
     ]
    },
    {
     "name": "stderr",
     "output_type": "stream",
     "text": [
      "INFO:gurobipy:     0     0 3606.80974    0  335          - 3606.80974      -     -    2s\n"
     ]
    },
    {
     "name": "stdout",
     "output_type": "stream",
     "text": [
      "     0     0 3606.85213    0  271          - 3606.85213      -     -    3s\n"
     ]
    },
    {
     "name": "stderr",
     "output_type": "stream",
     "text": [
      "INFO:gurobipy:     0     0 3606.85213    0  271          - 3606.85213      -     -    3s\n"
     ]
    },
    {
     "name": "stdout",
     "output_type": "stream",
     "text": [
      "     0     0 3606.85441    0  265          - 3606.85441      -     -    3s\n"
     ]
    },
    {
     "name": "stderr",
     "output_type": "stream",
     "text": [
      "INFO:gurobipy:     0     0 3606.85441    0  265          - 3606.85441      -     -    3s\n"
     ]
    },
    {
     "name": "stdout",
     "output_type": "stream",
     "text": [
      "     0     0 3606.85986    0  256          - 3606.85986      -     -    3s\n"
     ]
    },
    {
     "name": "stderr",
     "output_type": "stream",
     "text": [
      "INFO:gurobipy:     0     0 3606.85986    0  256          - 3606.85986      -     -    3s\n"
     ]
    },
    {
     "name": "stdout",
     "output_type": "stream",
     "text": [
      "     0     0 3606.86400    0  264          - 3606.86400      -     -    3s\n"
     ]
    },
    {
     "name": "stderr",
     "output_type": "stream",
     "text": [
      "INFO:gurobipy:     0     0 3606.86400    0  264          - 3606.86400      -     -    3s\n"
     ]
    },
    {
     "name": "stdout",
     "output_type": "stream",
     "text": [
      "     0     0 3606.86400    0  268          - 3606.86400      -     -    3s\n"
     ]
    },
    {
     "name": "stderr",
     "output_type": "stream",
     "text": [
      "INFO:gurobipy:     0     0 3606.86400    0  268          - 3606.86400      -     -    3s\n"
     ]
    },
    {
     "name": "stdout",
     "output_type": "stream",
     "text": [
      "     0     0 3606.86561    0  259          - 3606.86561      -     -    3s\n"
     ]
    },
    {
     "name": "stderr",
     "output_type": "stream",
     "text": [
      "INFO:gurobipy:     0     0 3606.86561    0  259          - 3606.86561      -     -    3s\n"
     ]
    },
    {
     "name": "stdout",
     "output_type": "stream",
     "text": [
      "H    0     0                    3609.4693111 3606.86561  0.07%     -    4s\n"
     ]
    },
    {
     "name": "stderr",
     "output_type": "stream",
     "text": [
      "INFO:gurobipy:H    0     0                    3609.4693111 3606.86561  0.07%     -    4s\n"
     ]
    },
    {
     "name": "stdout",
     "output_type": "stream",
     "text": [
      "H    0     0                    3609.2923590 3606.86561  0.07%     -    4s\n"
     ]
    },
    {
     "name": "stderr",
     "output_type": "stream",
     "text": [
      "INFO:gurobipy:H    0     0                    3609.2923590 3606.86561  0.07%     -    4s\n"
     ]
    },
    {
     "name": "stdout",
     "output_type": "stream",
     "text": [
      "     0     2 3606.86766    0  257 3609.29236 3606.86766  0.07%     -    5s\n"
     ]
    },
    {
     "name": "stderr",
     "output_type": "stream",
     "text": [
      "INFO:gurobipy:     0     2 3606.86766    0  257 3609.29236 3606.86766  0.07%     -    5s\n"
     ]
    },
    {
     "name": "stdout",
     "output_type": "stream",
     "text": [
      "H   27    27                    3609.1274111 3606.89625  0.06%  76.9    5s\n"
     ]
    },
    {
     "name": "stderr",
     "output_type": "stream",
     "text": [
      "INFO:gurobipy:H   27    27                    3609.1274111 3606.89625  0.06%  76.9    5s\n"
     ]
    },
    {
     "name": "stdout",
     "output_type": "stream",
     "text": [
      "H   54    54                    3608.9868172 3606.89625  0.06%  40.6    6s\n"
     ]
    },
    {
     "name": "stderr",
     "output_type": "stream",
     "text": [
      "INFO:gurobipy:H   54    54                    3608.9868172 3606.89625  0.06%  40.6    6s\n"
     ]
    },
    {
     "name": "stdout",
     "output_type": "stream",
     "text": [
      "H  548   548                    3608.9484300 3606.89625  0.06%   8.7    9s\n"
     ]
    },
    {
     "name": "stderr",
     "output_type": "stream",
     "text": [
      "INFO:gurobipy:H  548   548                    3608.9484300 3606.89625  0.06%   8.7    9s\n"
     ]
    },
    {
     "name": "stdout",
     "output_type": "stream",
     "text": [
      "H  548   548                    3608.7899808 3606.89625  0.05%   8.7    9s\n"
     ]
    },
    {
     "name": "stderr",
     "output_type": "stream",
     "text": [
      "INFO:gurobipy:H  548   548                    3608.7899808 3606.89625  0.05%   8.7    9s\n"
     ]
    },
    {
     "name": "stdout",
     "output_type": "stream",
     "text": [
      "   692   694 3607.92205  504   21 3608.78998 3606.89625  0.05%   8.4   10s\n"
     ]
    },
    {
     "name": "stderr",
     "output_type": "stream",
     "text": [
      "INFO:gurobipy:   692   694 3607.92205  504   21 3608.78998 3606.89625  0.05%   8.4   10s\n"
     ]
    },
    {
     "name": "stdout",
     "output_type": "stream",
     "text": [
      "H  993   951                    3607.9782031 3606.89625  0.03%   6.8   11s\n"
     ]
    },
    {
     "name": "stderr",
     "output_type": "stream",
     "text": [
      "INFO:gurobipy:H  993   951                    3607.9782031 3606.89625  0.03%   6.8   11s\n"
     ]
    },
    {
     "name": "stdout",
     "output_type": "stream",
     "text": [
      "H 1255  1169                    3607.9573906 3606.89625  0.03%   6.6   13s\n"
     ]
    },
    {
     "name": "stderr",
     "output_type": "stream",
     "text": [
      "INFO:gurobipy:H 1255  1169                    3607.9573906 3606.89625  0.03%   6.6   13s\n"
     ]
    },
    {
     "name": "stdout",
     "output_type": "stream",
     "text": [
      "  1264  1171 3607.84025  304  259 3607.95739 3606.89791  0.03%   6.6   15s\n"
     ]
    },
    {
     "name": "stderr",
     "output_type": "stream",
     "text": [
      "INFO:gurobipy:  1264  1171 3607.84025  304  259 3607.95739 3606.89791  0.03%   6.6   15s\n"
     ]
    },
    {
     "name": "stdout",
     "output_type": "stream",
     "text": [
      "  1289  1188 3607.25769    4  201 3607.95739 3607.25769  0.02%   6.5   20s\n"
     ]
    },
    {
     "name": "stderr",
     "output_type": "stream",
     "text": [
      "INFO:gurobipy:  1289  1188 3607.25769    4  201 3607.95739 3607.25769  0.02%   6.5   20s\n"
     ]
    },
    {
     "name": "stdout",
     "output_type": "stream",
     "text": [
      "  1315  1206 3607.92205  618 1102 3607.95739 3607.28557  0.02%  31.0   25s\n"
     ]
    },
    {
     "name": "stderr",
     "output_type": "stream",
     "text": [
      "INFO:gurobipy:  1315  1206 3607.92205  618 1102 3607.95739 3607.28557  0.02%  31.0   25s\n"
     ]
    },
    {
     "name": "stdout",
     "output_type": "stream",
     "text": [
      "  1332  1218 3607.29877   26  169 3607.95739 3607.28727  0.02%  30.6   30s\n"
     ]
    },
    {
     "name": "stderr",
     "output_type": "stream",
     "text": [
      "INFO:gurobipy:  1332  1218 3607.29877   26  169 3607.95739 3607.28727  0.02%  30.6   30s\n"
     ]
    },
    {
     "name": "stdout",
     "output_type": "stream",
     "text": [
      "H 1338  1160                    3607.9378969 3607.28727  0.02%  30.4   32s\n"
     ]
    },
    {
     "name": "stderr",
     "output_type": "stream",
     "text": [
      "INFO:gurobipy:H 1338  1160                    3607.9378969 3607.28727  0.02%  30.4   32s\n"
     ]
    },
    {
     "name": "stdout",
     "output_type": "stream",
     "text": [
      "H 1338  1102                    3607.9365850 3607.28727  0.02%  30.4   32s\n"
     ]
    },
    {
     "name": "stderr",
     "output_type": "stream",
     "text": [
      "INFO:gurobipy:H 1338  1102                    3607.9365850 3607.28727  0.02%  30.4   32s\n"
     ]
    },
    {
     "name": "stdout",
     "output_type": "stream",
     "text": [
      "H 1338  1046                    3607.8194035 3607.28727  0.01%  30.4   33s\n"
     ]
    },
    {
     "name": "stderr",
     "output_type": "stream",
     "text": [
      "INFO:gurobipy:H 1338  1046                    3607.8194035 3607.28727  0.01%  30.4   33s\n"
     ]
    },
    {
     "name": "stdout",
     "output_type": "stream",
     "text": [
      "  1366  1065 3607.29662   40  150 3607.81940 3607.28991  0.01%  53.8   35s\n"
     ]
    },
    {
     "name": "stderr",
     "output_type": "stream",
     "text": [
      "INFO:gurobipy:  1366  1065 3607.29662   40  150 3607.81940 3607.28991  0.01%  53.8   35s\n"
     ]
    },
    {
     "name": "stdout",
     "output_type": "stream",
     "text": [
      "H 1417  1040                    3607.6974278 3607.28991  0.01%  52.3   36s\n"
     ]
    },
    {
     "name": "stderr",
     "output_type": "stream",
     "text": [
      "INFO:gurobipy:H 1417  1040                    3607.6974278 3607.28991  0.01%  52.3   36s\n"
     ]
    },
    {
     "name": "stdout",
     "output_type": "stream",
     "text": [
      "H 1443  1004                    3607.6896625 3607.28991  0.01%  51.5   37s\n"
     ]
    },
    {
     "name": "stderr",
     "output_type": "stream",
     "text": [
      "INFO:gurobipy:H 1443  1004                    3607.6896625 3607.28991  0.01%  51.5   37s\n"
     ]
    },
    {
     "name": "stdout",
     "output_type": "stream",
     "text": [
      "H 1443   957                    3607.6896558 3607.28991  0.01%  51.5   37s\n"
     ]
    },
    {
     "name": "stderr",
     "output_type": "stream",
     "text": [
      "INFO:gurobipy:H 1443   957                    3607.6896558 3607.28991  0.01%  51.5   37s\n"
     ]
    },
    {
     "name": "stdout",
     "output_type": "stream",
     "text": [
      "  1528  1001 3607.56670  121  108 3607.68966 3607.28991  0.01%  49.3   40s\n"
     ]
    },
    {
     "name": "stderr",
     "output_type": "stream",
     "text": [
      "INFO:gurobipy:  1528  1001 3607.56670  121  108 3607.68966 3607.28991  0.01%  49.3   40s\n"
     ]
    },
    {
     "name": "stdout",
     "output_type": "stream",
     "text": [
      "  1798  1142 3607.43441   46  135 3607.68966 3607.29010  0.01%  43.1   45s\n"
     ]
    },
    {
     "name": "stderr",
     "output_type": "stream",
     "text": [
      "INFO:gurobipy:  1798  1142 3607.43441   46  135 3607.68966 3607.29010  0.01%  43.1   45s\n"
     ]
    },
    {
     "name": "stdout",
     "output_type": "stream",
     "text": [
      "  2133  1325 3607.65873  220   24 3607.68966 3607.29010  0.01%  37.7   50s\n"
     ]
    },
    {
     "name": "stderr",
     "output_type": "stream",
     "text": [
      "INFO:gurobipy:  2133  1325 3607.65873  220   24 3607.68966 3607.29010  0.01%  37.7   50s\n"
     ]
    },
    {
     "name": "stdout",
     "output_type": "stream",
     "text": [
      "  2547  1550 3607.68006  236   22 3607.68966 3607.29172  0.01%  33.0   55s\n"
     ]
    },
    {
     "name": "stderr",
     "output_type": "stream",
     "text": [
      "INFO:gurobipy:  2547  1550 3607.68006  236   22 3607.68966 3607.29172  0.01%  33.0   55s\n"
     ]
    },
    {
     "name": "stdout",
     "output_type": "stream",
     "text": [
      "H 2583  1481                    3607.6807423 3607.29172  0.01%  32.7   55s\n"
     ]
    },
    {
     "name": "stderr",
     "output_type": "stream",
     "text": [
      "INFO:gurobipy:H 2583  1481                    3607.6807423 3607.29172  0.01%  32.7   55s\n"
     ]
    },
    {
     "name": "stdout",
     "output_type": "stream",
     "text": [
      "* 2607  1429             266    3607.6806180 3607.29172  0.01%  32.4   55s\n"
     ]
    },
    {
     "name": "stderr",
     "output_type": "stream",
     "text": [
      "INFO:gurobipy:* 2607  1429             266    3607.6806180 3607.29172  0.01%  32.4   55s\n"
     ]
    },
    {
     "name": "stdout",
     "output_type": "stream",
     "text": [
      "  3028  1636 3607.33549   54  144 3607.68062 3607.29539  0.01%  29.3   60s\n"
     ]
    },
    {
     "name": "stderr",
     "output_type": "stream",
     "text": [
      "INFO:gurobipy:  3028  1636 3607.33549   54  144 3607.68062 3607.29539  0.01%  29.3   60s\n"
     ]
    },
    {
     "name": "stdout",
     "output_type": "stream",
     "text": [
      "H 3185  1398                    3607.6181050 3607.29539  0.01%  28.5   62s\n"
     ]
    },
    {
     "name": "stderr",
     "output_type": "stream",
     "text": [
      "INFO:gurobipy:H 3185  1398                    3607.6181050 3607.29539  0.01%  28.5   62s\n"
     ]
    },
    {
     "name": "stdout",
     "output_type": "stream",
     "text": [
      "\n"
     ]
    },
    {
     "name": "stderr",
     "output_type": "stream",
     "text": [
      "INFO:gurobipy:\n"
     ]
    },
    {
     "name": "stdout",
     "output_type": "stream",
     "text": [
      "Cutting planes:\n"
     ]
    },
    {
     "name": "stderr",
     "output_type": "stream",
     "text": [
      "INFO:gurobipy:Cutting planes:\n"
     ]
    },
    {
     "name": "stdout",
     "output_type": "stream",
     "text": [
      "  Gomory: 152\n"
     ]
    },
    {
     "name": "stderr",
     "output_type": "stream",
     "text": [
      "INFO:gurobipy:  Gomory: 152\n"
     ]
    },
    {
     "name": "stdout",
     "output_type": "stream",
     "text": [
      "  Cover: 15\n"
     ]
    },
    {
     "name": "stderr",
     "output_type": "stream",
     "text": [
      "INFO:gurobipy:  Cover: 15\n"
     ]
    },
    {
     "name": "stdout",
     "output_type": "stream",
     "text": [
      "  Implied bound: 237\n"
     ]
    },
    {
     "name": "stderr",
     "output_type": "stream",
     "text": [
      "INFO:gurobipy:  Implied bound: 237\n"
     ]
    },
    {
     "name": "stdout",
     "output_type": "stream",
     "text": [
      "  Clique: 2\n"
     ]
    },
    {
     "name": "stderr",
     "output_type": "stream",
     "text": [
      "INFO:gurobipy:  Clique: 2\n"
     ]
    },
    {
     "name": "stdout",
     "output_type": "stream",
     "text": [
      "  MIR: 879\n"
     ]
    },
    {
     "name": "stderr",
     "output_type": "stream",
     "text": [
      "INFO:gurobipy:  MIR: 879\n"
     ]
    },
    {
     "name": "stdout",
     "output_type": "stream",
     "text": [
      "  Mixing: 13\n"
     ]
    },
    {
     "name": "stderr",
     "output_type": "stream",
     "text": [
      "INFO:gurobipy:  Mixing: 13\n"
     ]
    },
    {
     "name": "stdout",
     "output_type": "stream",
     "text": [
      "  Flow cover: 1107\n"
     ]
    },
    {
     "name": "stderr",
     "output_type": "stream",
     "text": [
      "INFO:gurobipy:  Flow cover: 1107\n"
     ]
    },
    {
     "name": "stdout",
     "output_type": "stream",
     "text": [
      "  RLT: 10\n"
     ]
    },
    {
     "name": "stderr",
     "output_type": "stream",
     "text": [
      "INFO:gurobipy:  RLT: 10\n"
     ]
    },
    {
     "name": "stdout",
     "output_type": "stream",
     "text": [
      "  Relax-and-lift: 39\n"
     ]
    },
    {
     "name": "stderr",
     "output_type": "stream",
     "text": [
      "INFO:gurobipy:  Relax-and-lift: 39\n"
     ]
    },
    {
     "name": "stdout",
     "output_type": "stream",
     "text": [
      "\n"
     ]
    },
    {
     "name": "stderr",
     "output_type": "stream",
     "text": [
      "INFO:gurobipy:\n"
     ]
    },
    {
     "name": "stdout",
     "output_type": "stream",
     "text": [
      "Explored 3186 nodes (118249 simplex iterations) in 62.04 seconds (79.24 work units)\n"
     ]
    },
    {
     "name": "stderr",
     "output_type": "stream",
     "text": [
      "INFO:gurobipy:Explored 3186 nodes (118249 simplex iterations) in 62.04 seconds (79.24 work units)\n"
     ]
    },
    {
     "name": "stdout",
     "output_type": "stream",
     "text": [
      "Thread count was 1 (of 16 available processors)\n"
     ]
    },
    {
     "name": "stderr",
     "output_type": "stream",
     "text": [
      "INFO:gurobipy:Thread count was 1 (of 16 available processors)\n"
     ]
    },
    {
     "name": "stdout",
     "output_type": "stream",
     "text": [
      "\n"
     ]
    },
    {
     "name": "stderr",
     "output_type": "stream",
     "text": [
      "INFO:gurobipy:\n"
     ]
    },
    {
     "name": "stdout",
     "output_type": "stream",
     "text": [
      "Solution count 10: 3607.62 3607.62 3607.68 ... 3608.79\n"
     ]
    },
    {
     "name": "stderr",
     "output_type": "stream",
     "text": [
      "INFO:gurobipy:Solution count 10: 3607.62 3607.62 3607.68 ... 3608.79\n"
     ]
    },
    {
     "name": "stdout",
     "output_type": "stream",
     "text": [
      "\n"
     ]
    },
    {
     "name": "stderr",
     "output_type": "stream",
     "text": [
      "INFO:gurobipy:\n"
     ]
    },
    {
     "name": "stdout",
     "output_type": "stream",
     "text": [
      "Optimal solution found (tolerance 1.00e-04)\n"
     ]
    },
    {
     "name": "stderr",
     "output_type": "stream",
     "text": [
      "INFO:gurobipy:Optimal solution found (tolerance 1.00e-04)\n"
     ]
    },
    {
     "name": "stdout",
     "output_type": "stream",
     "text": [
      "Best objective 3.607618104944e+03, best bound 3.607295388024e+03, gap 0.0089%\n"
     ]
    },
    {
     "name": "stderr",
     "output_type": "stream",
     "text": [
      "INFO:gurobipy:Best objective 3.607618104944e+03, best bound 3.607295388024e+03, gap 0.0089%\n",
      "WARNING:linopy.solvers:Dual values of MILP couldn't be parsed\n",
      "INFO:linopy.constants: Optimization successful: \n",
      "Status: ok\n",
      "Termination condition: optimal\n",
      "Solution: 96362 primals, 0 duals\n",
      "Objective: 3.61e+03\n",
      "Solver model: available\n",
      "Solver message: 2\n",
      "\n",
      "INFO:pypsa.optimization.optimize:No shadow prices were assigned to the network.\n"
     ]
    },
    {
     "data": {
      "text/plain": [
       "('ok', 'optimal')"
      ]
     },
     "execution_count": 21,
     "metadata": {},
     "output_type": "execute_result"
    }
   ],
   "execution_count": 21
  },
  {
   "cell_type": "markdown",
   "id": "9908fd15",
   "metadata": {},
   "source": [
    "Überprüfen Sie ob die Nebenbedingungen eingehalten wurden"
   ]
  },
  {
   "cell_type": "code",
   "id": "01e9bf26-d944-48e4-a60b-193f53c76a72",
   "metadata": {
    "ExecuteTime": {
     "end_time": "2025-08-28T16:06:28.155555Z",
     "start_time": "2025-08-28T16:06:28.151314Z"
    }
   },
   "source": [
    "print(\"Genutzte Dachfläche:\",round(network.generators.p_nom_opt.PV / pv_p_per_m2 + network.generators.p_nom_opt.collector / col_p_per_m2,2),\"m2\")\n",
    "print(\"Nicht-EE-Anteil:\",round(network.generators_t.p.boiler.sum() / df_data[\"heat_load\"].sum()*100,2),\"%\")\n",
    "print(\"Wärmepumpen-Anteil:\", round(network.links_t.p1.heatpump.sum() * -1 / df_data[\"heat_load\"].sum() * 100,2),\"%\")\n"
   ],
   "outputs": [
    {
     "name": "stdout",
     "output_type": "stream",
     "text": [
      "Genutzte Dachfläche: 20.0 m2\n",
      "Nicht-EE-Anteil: 34.72 %\n",
      "Wärmepumpen-Anteil: 65.43 %\n"
     ]
    }
   ],
   "execution_count": 22
  },
  {
   "cell_type": "markdown",
   "id": "6ee91cde",
   "metadata": {},
   "source": [
    "Lassen Sie sich die Auslegung der PV-Anlage und der Flachkollektoren ausgeben und plotten Sie sich die Leistung der Wärmepumpe und des Heizstabs"
   ]
  },
  {
   "cell_type": "code",
   "id": "cbd53d25-352e-4f1a-8828-351dce5fac22",
   "metadata": {
    "ExecuteTime": {
     "end_time": "2025-08-28T16:06:28.235913Z",
     "start_time": "2025-08-28T16:06:28.231219Z"
    }
   },
   "source": [
    "network.generators.p_nom_opt"
   ],
   "outputs": [
    {
     "data": {
      "text/plain": [
       "Generator\n",
       "grid         15.0\n",
       "boiler        inf\n",
       "PV            4.0\n",
       "collector     0.0\n",
       "Name: p_nom_opt, dtype: float64"
      ]
     },
     "execution_count": 23,
     "metadata": {},
     "output_type": "execute_result"
    }
   ],
   "execution_count": 23
  },
  {
   "cell_type": "code",
   "id": "e9dbae15-ffb9-49c3-aa53-6858aff8a981",
   "metadata": {
    "ExecuteTime": {
     "end_time": "2025-08-28T16:06:28.693529Z",
     "start_time": "2025-08-28T16:06:28.508261Z"
    }
   },
   "source": [
    "network.links_t.p0.loc[:,[\"heating_rod\",\"heatpump\"]].plot(alpha=0.5)"
   ],
   "outputs": [
    {
     "data": {
      "text/plain": [
       "<Axes: xlabel='snapshot'>"
      ]
     },
     "execution_count": 24,
     "metadata": {},
     "output_type": "execute_result"
    },
    {
     "data": {
      "text/plain": [
       "<Figure size 640x480 with 1 Axes>"
      ],
      "image/png": "[encoded data removed]"
     },
     "metadata": {},
     "output_type": "display_data"
    }
   ],
   "execution_count": 24
  },
  {
   "cell_type": "markdown",
   "id": "78c008b1-d28b-4921-aeee-68aa2afd4e08",
   "metadata": {},
   "source": [
    "Ändern Sie das Netzwerk derart ab, sodass der Heizstab nur noch durch die PV-Erzeugung betrieben werden kann. <br>\n",
    "Nutzen Sie das Attribut 'overwrite = True' damit Sie das Netzwerk nicht komplett neu aufbauen müssen."
   ]
  },
  {
   "cell_type": "code",
   "id": "cc196efc-b25f-46f4-958a-075afd81e9a8",
   "metadata": {
    "ExecuteTime": {
     "end_time": "2025-08-28T16:07:07.969348Z",
     "start_time": "2025-08-28T16:06:28.742134Z"
    }
   },
   "source": [
    "model = network.optimize.create_model()\n",
    "\n",
    "model_pv_p_nom  = model.variables[\"Generator-p_nom\"]['PV']\n",
    "model_col_p_nom = model.variables[\"Generator-p_nom\"]['collector']\n",
    "\n",
    "model_boiler_p  = model.variables[\"Generator-p\"].sel(Generator='boiler')\n",
    "model_hr_p      = model.variables[\"Link-p\"].sel(Link='heating_rod')\n",
    "\n",
    "\n",
    "constraint_expression = 20 >= model_pv_p_nom/pv_p_per_m2 + model_col_p_nom/col_p_per_m2\n",
    "model.add_constraints(constraint_expression, name=\"Flächenbegrenzung\")\n",
    "\n",
    "con_ee_limit = sum(model_boiler_p[t] for t in df_data.index) <=  0.35 * df_data[\"heat_load\"].sum()\n",
    "model.add_constraints(con_ee_limit, name=\"EE-Limit\")\n",
    "\n",
    "network.optimize.solve_model(solver_name='gurobi', method = 1, threads = 1)"
   ],
   "outputs": [
    {
     "name": "stderr",
     "output_type": "stream",
     "text": [
      "WARNING:pypsa.consistency:The following links have carriers which are not defined:\n",
      "Index(['heating_rod', 'heatpump'], dtype='object', name='Link')\n",
      "WARNING:pypsa.consistency:The following stores have carriers which are not defined:\n",
      "Index(['heat_store'], dtype='object', name='Store')\n",
      "WARNING:pypsa.consistency:The following buses have carriers which are not defined:\n",
      "Index(['thermal', 'electricity'], dtype='object', name='Bus')\n",
      "C:\\Users\\sarah\\anaconda3\\Lib\\site-packages\\linopy\\variables.py:197: FutureWarning:\n",
      "\n",
      "Accessing a single value with `Variable[...]` and return type ScalarVariable is deprecated. In future, this will return a Variable.To get a ScalarVariable use `Variable.at[...]` instead.\n",
      "\n",
      "C:\\Users\\sarah\\anaconda3\\Lib\\site-packages\\linopy\\variables.py:197: FutureWarning:\n",
      "\n",
      "Accessing a single value with `Variable[...]` and return type ScalarVariable is deprecated. In future, this will return a Variable.To get a ScalarVariable use `Variable.at[...]` instead.\n",
      "\n",
      "INFO:linopy.model: Solve problem using Gurobi solver\n",
      "INFO:linopy.model:Solver options:\n",
      " - method: 1\n",
      " - threads: 1\n",
      "INFO:linopy.io:Writing objective.\n",
      "Writing constraints.: 100%|\u001B[38;2;128;191;255m██████████\u001B[0m| 19/19 [00:00<00:00, 22.64it/s]\n",
      "Writing continuous variables.: 100%|\u001B[38;2;128;191;255m██████████\u001B[0m| 5/5 [00:00<00:00, 32.65it/s]\n",
      "Writing binary variables.: 100%|\u001B[38;2;128;191;255m██████████\u001B[0m| 3/3 [00:00<00:00, 103.36it/s]\n",
      "INFO:linopy.io: Writing time: 1.06s\n"
     ]
    },
    {
     "name": "stdout",
     "output_type": "stream",
     "text": [
      "Set parameter Username\n"
     ]
    },
    {
     "name": "stderr",
     "output_type": "stream",
     "text": [
      "INFO:gurobipy:Set parameter Username\n"
     ]
    },
    {
     "name": "stdout",
     "output_type": "stream",
     "text": [
      "Set parameter LicenseID to value 2694931\n"
     ]
    },
    {
     "name": "stderr",
     "output_type": "stream",
     "text": [
      "INFO:gurobipy:Set parameter LicenseID to value 2694931\n"
     ]
    },
    {
     "name": "stdout",
     "output_type": "stream",
     "text": [
      "Academic license - for non-commercial use only - expires 2026-08-11\n"
     ]
    },
    {
     "name": "stderr",
     "output_type": "stream",
     "text": [
      "INFO:gurobipy:Academic license - for non-commercial use only - expires 2026-08-11\n"
     ]
    },
    {
     "name": "stdout",
     "output_type": "stream",
     "text": [
      "Read LP format model from file C:\\Users\\sarah\\AppData\\Local\\Temp\\linopy-problem-z5ogi460.lp\n"
     ]
    },
    {
     "name": "stderr",
     "output_type": "stream",
     "text": [
      "INFO:gurobipy:Read LP format model from file C:\\Users\\sarah\\AppData\\Local\\Temp\\linopy-problem-z5ogi460.lp\n"
     ]
    },
    {
     "name": "stdout",
     "output_type": "stream",
     "text": [
      "Reading time = 0.24 seconds\n"
     ]
    },
    {
     "name": "stderr",
     "output_type": "stream",
     "text": [
      "INFO:gurobipy:Reading time = 0.24 seconds\n"
     ]
    },
    {
     "name": "stdout",
     "output_type": "stream",
     "text": [
      "obj: 157684 rows, 96362 columns, 305031 nonzeros\n"
     ]
    },
    {
     "name": "stderr",
     "output_type": "stream",
     "text": [
      "INFO:gurobipy:obj: 157684 rows, 96362 columns, 305031 nonzeros\n"
     ]
    },
    {
     "name": "stdout",
     "output_type": "stream",
     "text": [
      "Set parameter Method to value 1\n"
     ]
    },
    {
     "name": "stderr",
     "output_type": "stream",
     "text": [
      "INFO:gurobipy:Set parameter Method to value 1\n"
     ]
    },
    {
     "name": "stdout",
     "output_type": "stream",
     "text": [
      "Set parameter Threads to value 1\n"
     ]
    },
    {
     "name": "stderr",
     "output_type": "stream",
     "text": [
      "INFO:gurobipy:Set parameter Threads to value 1\n"
     ]
    },
    {
     "name": "stdout",
     "output_type": "stream",
     "text": [
      "Gurobi Optimizer version 12.0.2 build v12.0.2rc0 (win64 - Windows 10.0 (19045.2))\n"
     ]
    },
    {
     "name": "stderr",
     "output_type": "stream",
     "text": [
      "INFO:gurobipy:Gurobi Optimizer version 12.0.2 build v12.0.2rc0 (win64 - Windows 10.0 (19045.2))\n"
     ]
    },
    {
     "name": "stdout",
     "output_type": "stream",
     "text": [
      "\n"
     ]
    },
    {
     "name": "stderr",
     "output_type": "stream",
     "text": [
      "INFO:gurobipy:\n"
     ]
    },
    {
     "name": "stdout",
     "output_type": "stream",
     "text": [
      "CPU model: AMD Ryzen 7 5800X3D 8-Core Processor, instruction set [SSE2|AVX|AVX2]\n"
     ]
    },
    {
     "name": "stderr",
     "output_type": "stream",
     "text": [
      "INFO:gurobipy:CPU model: AMD Ryzen 7 5800X3D 8-Core Processor, instruction set [SSE2|AVX|AVX2]\n"
     ]
    },
    {
     "name": "stdout",
     "output_type": "stream",
     "text": [
      "Thread count: 8 physical cores, 16 logical processors, using up to 1 threads\n"
     ]
    },
    {
     "name": "stderr",
     "output_type": "stream",
     "text": [
      "INFO:gurobipy:Thread count: 8 physical cores, 16 logical processors, using up to 1 threads\n"
     ]
    },
    {
     "name": "stdout",
     "output_type": "stream",
     "text": [
      "\n"
     ]
    },
    {
     "name": "stderr",
     "output_type": "stream",
     "text": [
      "INFO:gurobipy:\n"
     ]
    },
    {
     "name": "stdout",
     "output_type": "stream",
     "text": [
      "Non-default parameters:\n"
     ]
    },
    {
     "name": "stderr",
     "output_type": "stream",
     "text": [
      "INFO:gurobipy:Non-default parameters:\n"
     ]
    },
    {
     "name": "stdout",
     "output_type": "stream",
     "text": [
      "Method  1\n"
     ]
    },
    {
     "name": "stderr",
     "output_type": "stream",
     "text": [
      "INFO:gurobipy:Method  1\n"
     ]
    },
    {
     "name": "stdout",
     "output_type": "stream",
     "text": [
      "Threads  1\n"
     ]
    },
    {
     "name": "stderr",
     "output_type": "stream",
     "text": [
      "INFO:gurobipy:Threads  1\n"
     ]
    },
    {
     "name": "stdout",
     "output_type": "stream",
     "text": [
      "\n"
     ]
    },
    {
     "name": "stderr",
     "output_type": "stream",
     "text": [
      "INFO:gurobipy:\n"
     ]
    },
    {
     "name": "stdout",
     "output_type": "stream",
     "text": [
      "Optimize a model with 157684 rows, 96362 columns and 305031 nonzeros\n"
     ]
    },
    {
     "name": "stderr",
     "output_type": "stream",
     "text": [
      "INFO:gurobipy:Optimize a model with 157684 rows, 96362 columns and 305031 nonzeros\n"
     ]
    },
    {
     "name": "stdout",
     "output_type": "stream",
     "text": [
      "Model fingerprint: 0x29ff7bc4\n"
     ]
    },
    {
     "name": "stderr",
     "output_type": "stream",
     "text": [
      "INFO:gurobipy:Model fingerprint: 0x29ff7bc4\n"
     ]
    },
    {
     "name": "stdout",
     "output_type": "stream",
     "text": [
      "Variable types: 70082 continuous, 26280 integer (26280 binary)\n"
     ]
    },
    {
     "name": "stderr",
     "output_type": "stream",
     "text": [
      "INFO:gurobipy:Variable types: 70082 continuous, 26280 integer (26280 binary)\n"
     ]
    },
    {
     "name": "stdout",
     "output_type": "stream",
     "text": [
      "Coefficient statistics:\n"
     ]
    },
    {
     "name": "stderr",
     "output_type": "stream",
     "text": [
      "INFO:gurobipy:Coefficient statistics:\n"
     ]
    },
    {
     "name": "stdout",
     "output_type": "stream",
     "text": [
      "  Matrix range     [1e-03, 6e+00]\n"
     ]
    },
    {
     "name": "stderr",
     "output_type": "stream",
     "text": [
      "INFO:gurobipy:  Matrix range     [1e-03, 6e+00]\n"
     ]
    },
    {
     "name": "stdout",
     "output_type": "stream",
     "text": [
      "  Objective range  [1e-01, 5e+01]\n"
     ]
    },
    {
     "name": "stderr",
     "output_type": "stream",
     "text": [
      "INFO:gurobipy:  Objective range  [1e-01, 5e+01]\n"
     ]
    },
    {
     "name": "stdout",
     "output_type": "stream",
     "text": [
      "  Bounds range     [1e+00, 1e+00]\n"
     ]
    },
    {
     "name": "stderr",
     "output_type": "stream",
     "text": [
      "INFO:gurobipy:  Bounds range     [1e+00, 1e+00]\n"
     ]
    },
    {
     "name": "stdout",
     "output_type": "stream",
     "text": [
      "  RHS range        [2e-03, 8e+03]\n"
     ]
    },
    {
     "name": "stderr",
     "output_type": "stream",
     "text": [
      "INFO:gurobipy:  RHS range        [2e-03, 8e+03]\n"
     ]
    },
    {
     "name": "stdout",
     "output_type": "stream",
     "text": [
      "Presolve removed 128198 rows and 46679 columns\n"
     ]
    },
    {
     "name": "stderr",
     "output_type": "stream",
     "text": [
      "INFO:gurobipy:Presolve removed 128198 rows and 46679 columns\n"
     ]
    },
    {
     "name": "stdout",
     "output_type": "stream",
     "text": [
      "Presolve time: 0.24s\n"
     ]
    },
    {
     "name": "stderr",
     "output_type": "stream",
     "text": [
      "INFO:gurobipy:Presolve time: 0.24s\n"
     ]
    },
    {
     "name": "stdout",
     "output_type": "stream",
     "text": [
      "Presolved: 29486 rows, 49683 columns, 106145 nonzeros\n"
     ]
    },
    {
     "name": "stderr",
     "output_type": "stream",
     "text": [
      "INFO:gurobipy:Presolved: 29486 rows, 49683 columns, 106145 nonzeros\n"
     ]
    },
    {
     "name": "stdout",
     "output_type": "stream",
     "text": [
      "Variable types: 40923 continuous, 8760 integer (8760 binary)\n"
     ]
    },
    {
     "name": "stderr",
     "output_type": "stream",
     "text": [
      "INFO:gurobipy:Variable types: 40923 continuous, 8760 integer (8760 binary)\n"
     ]
    },
    {
     "name": "stdout",
     "output_type": "stream",
     "text": [
      "\n"
     ]
    },
    {
     "name": "stderr",
     "output_type": "stream",
     "text": [
      "INFO:gurobipy:\n"
     ]
    },
    {
     "name": "stdout",
     "output_type": "stream",
     "text": [
      "Root relaxation: objective 3.594056e+03, 13798 iterations, 0.12 seconds (0.18 work units)\n"
     ]
    },
    {
     "name": "stderr",
     "output_type": "stream",
     "text": [
      "INFO:gurobipy:Root relaxation: objective 3.594056e+03, 13798 iterations, 0.12 seconds (0.18 work units)\n"
     ]
    },
    {
     "name": "stdout",
     "output_type": "stream",
     "text": [
      "\n"
     ]
    },
    {
     "name": "stderr",
     "output_type": "stream",
     "text": [
      "INFO:gurobipy:\n"
     ]
    },
    {
     "name": "stdout",
     "output_type": "stream",
     "text": [
      "    Nodes    |    Current Node    |     Objective Bounds      |     Work\n"
     ]
    },
    {
     "name": "stderr",
     "output_type": "stream",
     "text": [
      "INFO:gurobipy:    Nodes    |    Current Node    |     Objective Bounds      |     Work\n"
     ]
    },
    {
     "name": "stdout",
     "output_type": "stream",
     "text": [
      " Expl Unexpl |  Obj  Depth IntInf | Incumbent    BestBd   Gap | It/Node Time\n"
     ]
    },
    {
     "name": "stderr",
     "output_type": "stream",
     "text": [
      "INFO:gurobipy: Expl Unexpl |  Obj  Depth IntInf | Incumbent    BestBd   Gap | It/Node Time\n"
     ]
    },
    {
     "name": "stdout",
     "output_type": "stream",
     "text": [
      "\n"
     ]
    },
    {
     "name": "stderr",
     "output_type": "stream",
     "text": [
      "INFO:gurobipy:\n"
     ]
    },
    {
     "name": "stdout",
     "output_type": "stream",
     "text": [
      "     0     0 3594.05629    0 1096          - 3594.05629      -     -    0s\n"
     ]
    },
    {
     "name": "stderr",
     "output_type": "stream",
     "text": [
      "INFO:gurobipy:     0     0 3594.05629    0 1096          - 3594.05629      -     -    0s\n"
     ]
    },
    {
     "name": "stdout",
     "output_type": "stream",
     "text": [
      "H    0     0                    3676.5830507 3594.05629  2.24%     -    0s\n"
     ]
    },
    {
     "name": "stderr",
     "output_type": "stream",
     "text": [
      "INFO:gurobipy:H    0     0                    3676.5830507 3594.05629  2.24%     -    0s\n"
     ]
    },
    {
     "name": "stdout",
     "output_type": "stream",
     "text": [
      "H    0     0                    3671.5312530 3594.05629  2.11%     -    1s\n"
     ]
    },
    {
     "name": "stderr",
     "output_type": "stream",
     "text": [
      "INFO:gurobipy:H    0     0                    3671.5312530 3594.05629  2.11%     -    1s\n"
     ]
    },
    {
     "name": "stdout",
     "output_type": "stream",
     "text": [
      "H    0     0                    3670.7283006 3594.05629  2.09%     -    1s\n"
     ]
    },
    {
     "name": "stderr",
     "output_type": "stream",
     "text": [
      "INFO:gurobipy:H    0     0                    3670.7283006 3594.05629  2.09%     -    1s\n"
     ]
    },
    {
     "name": "stdout",
     "output_type": "stream",
     "text": [
      "H    0     0                    3670.7264867 3594.05629  2.09%     -    1s\n"
     ]
    },
    {
     "name": "stderr",
     "output_type": "stream",
     "text": [
      "INFO:gurobipy:H    0     0                    3670.7264867 3594.05629  2.09%     -    1s\n"
     ]
    },
    {
     "name": "stdout",
     "output_type": "stream",
     "text": [
      "H    0     0                    3669.9191238 3594.05629  2.07%     -    1s\n"
     ]
    },
    {
     "name": "stderr",
     "output_type": "stream",
     "text": [
      "INFO:gurobipy:H    0     0                    3669.9191238 3594.05629  2.07%     -    1s\n"
     ]
    },
    {
     "name": "stdout",
     "output_type": "stream",
     "text": [
      "     0     0 3605.20305    0  639 3669.91912 3605.20305  1.76%     -    1s\n"
     ]
    },
    {
     "name": "stderr",
     "output_type": "stream",
     "text": [
      "INFO:gurobipy:     0     0 3605.20305    0  639 3669.91912 3605.20305  1.76%     -    1s\n"
     ]
    },
    {
     "name": "stdout",
     "output_type": "stream",
     "text": [
      "H    0     0                    3614.8636069 3605.21678  0.27%     -    1s\n"
     ]
    },
    {
     "name": "stderr",
     "output_type": "stream",
     "text": [
      "INFO:gurobipy:H    0     0                    3614.8636069 3605.21678  0.27%     -    1s\n"
     ]
    },
    {
     "name": "stdout",
     "output_type": "stream",
     "text": [
      "     0     0 3605.32196    0  616 3614.86361 3605.32196  0.26%     -    1s\n"
     ]
    },
    {
     "name": "stderr",
     "output_type": "stream",
     "text": [
      "INFO:gurobipy:     0     0 3605.32196    0  616 3614.86361 3605.32196  0.26%     -    1s\n"
     ]
    },
    {
     "name": "stdout",
     "output_type": "stream",
     "text": [
      "     0     0 3605.32944    0  621 3614.86361 3605.32944  0.26%     -    1s\n"
     ]
    },
    {
     "name": "stderr",
     "output_type": "stream",
     "text": [
      "INFO:gurobipy:     0     0 3605.32944    0  621 3614.86361 3605.32944  0.26%     -    1s\n"
     ]
    },
    {
     "name": "stdout",
     "output_type": "stream",
     "text": [
      "     0     0 3605.32979    0  623 3614.86361 3605.32979  0.26%     -    1s\n"
     ]
    },
    {
     "name": "stderr",
     "output_type": "stream",
     "text": [
      "INFO:gurobipy:     0     0 3605.32979    0  623 3614.86361 3605.32979  0.26%     -    1s\n"
     ]
    },
    {
     "name": "stdout",
     "output_type": "stream",
     "text": [
      "     0     0 3606.48174    0  468 3614.86361 3606.48174  0.23%     -    1s\n"
     ]
    },
    {
     "name": "stderr",
     "output_type": "stream",
     "text": [
      "INFO:gurobipy:     0     0 3606.48174    0  468 3614.86361 3606.48174  0.23%     -    1s\n"
     ]
    },
    {
     "name": "stdout",
     "output_type": "stream",
     "text": [
      "     0     0 3606.53670    0  443 3614.86361 3606.53670  0.23%     -    1s\n"
     ]
    },
    {
     "name": "stderr",
     "output_type": "stream",
     "text": [
      "INFO:gurobipy:     0     0 3606.53670    0  443 3614.86361 3606.53670  0.23%     -    1s\n"
     ]
    },
    {
     "name": "stdout",
     "output_type": "stream",
     "text": [
      "     0     0 3606.53923    0  448 3614.86361 3606.53923  0.23%     -    1s\n"
     ]
    },
    {
     "name": "stderr",
     "output_type": "stream",
     "text": [
      "INFO:gurobipy:     0     0 3606.53923    0  448 3614.86361 3606.53923  0.23%     -    1s\n"
     ]
    },
    {
     "name": "stdout",
     "output_type": "stream",
     "text": [
      "     0     0 3606.76206    0  339 3614.86361 3606.76206  0.22%     -    2s\n"
     ]
    },
    {
     "name": "stderr",
     "output_type": "stream",
     "text": [
      "INFO:gurobipy:     0     0 3606.76206    0  339 3614.86361 3606.76206  0.22%     -    2s\n"
     ]
    },
    {
     "name": "stdout",
     "output_type": "stream",
     "text": [
      "H    0     0                    3609.8272951 3606.76269  0.08%     -    2s\n"
     ]
    },
    {
     "name": "stderr",
     "output_type": "stream",
     "text": [
      "INFO:gurobipy:H    0     0                    3609.8272951 3606.76269  0.08%     -    2s\n"
     ]
    },
    {
     "name": "stdout",
     "output_type": "stream",
     "text": [
      "     0     0 3606.77157    0  335 3609.82730 3606.77157  0.08%     -    2s\n"
     ]
    },
    {
     "name": "stderr",
     "output_type": "stream",
     "text": [
      "INFO:gurobipy:     0     0 3606.77157    0  335 3609.82730 3606.77157  0.08%     -    2s\n"
     ]
    },
    {
     "name": "stdout",
     "output_type": "stream",
     "text": [
      "     0     0 3606.77197    0  346 3609.82730 3606.77197  0.08%     -    2s\n"
     ]
    },
    {
     "name": "stderr",
     "output_type": "stream",
     "text": [
      "INFO:gurobipy:     0     0 3606.77197    0  346 3609.82730 3606.77197  0.08%     -    2s\n"
     ]
    },
    {
     "name": "stdout",
     "output_type": "stream",
     "text": [
      "     0     0 3606.81593    0  326 3609.82730 3606.81593  0.08%     -    2s\n"
     ]
    },
    {
     "name": "stderr",
     "output_type": "stream",
     "text": [
      "INFO:gurobipy:     0     0 3606.81593    0  326 3609.82730 3606.81593  0.08%     -    2s\n"
     ]
    },
    {
     "name": "stdout",
     "output_type": "stream",
     "text": [
      "H    0     0                    3609.2195430 3606.81607  0.07%     -    2s\n"
     ]
    },
    {
     "name": "stderr",
     "output_type": "stream",
     "text": [
      "INFO:gurobipy:H    0     0                    3609.2195430 3606.81607  0.07%     -    2s\n"
     ]
    },
    {
     "name": "stdout",
     "output_type": "stream",
     "text": [
      "H    0     0                    3609.2186500 3606.81607  0.07%     -    2s\n"
     ]
    },
    {
     "name": "stderr",
     "output_type": "stream",
     "text": [
      "INFO:gurobipy:H    0     0                    3609.2186500 3606.81607  0.07%     -    2s\n"
     ]
    },
    {
     "name": "stdout",
     "output_type": "stream",
     "text": [
      "     0     0 3606.81822    0  320 3609.21865 3606.81822  0.07%     -    2s\n"
     ]
    },
    {
     "name": "stderr",
     "output_type": "stream",
     "text": [
      "INFO:gurobipy:     0     0 3606.81822    0  320 3609.21865 3606.81822  0.07%     -    2s\n"
     ]
    },
    {
     "name": "stdout",
     "output_type": "stream",
     "text": [
      "     0     0 3606.82043    0  286 3609.21865 3606.82043  0.07%     -    3s\n"
     ]
    },
    {
     "name": "stderr",
     "output_type": "stream",
     "text": [
      "INFO:gurobipy:     0     0 3606.82043    0  286 3609.21865 3606.82043  0.07%     -    3s\n"
     ]
    },
    {
     "name": "stdout",
     "output_type": "stream",
     "text": [
      "H    0     0                    3608.7133498 3606.82057  0.05%     -    3s\n"
     ]
    },
    {
     "name": "stderr",
     "output_type": "stream",
     "text": [
      "INFO:gurobipy:H    0     0                    3608.7133498 3606.82057  0.05%     -    3s\n"
     ]
    },
    {
     "name": "stdout",
     "output_type": "stream",
     "text": [
      "     0     0 3606.82086    0  292 3608.71335 3606.82086  0.05%     -    3s\n"
     ]
    },
    {
     "name": "stderr",
     "output_type": "stream",
     "text": [
      "INFO:gurobipy:     0     0 3606.82086    0  292 3608.71335 3606.82086  0.05%     -    3s\n"
     ]
    },
    {
     "name": "stdout",
     "output_type": "stream",
     "text": [
      "     0     0 3606.82250    0  293 3608.71335 3606.82250  0.05%     -    3s\n"
     ]
    },
    {
     "name": "stderr",
     "output_type": "stream",
     "text": [
      "INFO:gurobipy:     0     0 3606.82250    0  293 3608.71335 3606.82250  0.05%     -    3s\n"
     ]
    },
    {
     "name": "stdout",
     "output_type": "stream",
     "text": [
      "     0     0 3606.82280    0  291 3608.71335 3606.82280  0.05%     -    3s\n"
     ]
    },
    {
     "name": "stderr",
     "output_type": "stream",
     "text": [
      "INFO:gurobipy:     0     0 3606.82280    0  291 3608.71335 3606.82280  0.05%     -    3s\n"
     ]
    },
    {
     "name": "stdout",
     "output_type": "stream",
     "text": [
      "     0     0 3606.82386    0  282 3608.71335 3606.82386  0.05%     -    3s\n"
     ]
    },
    {
     "name": "stderr",
     "output_type": "stream",
     "text": [
      "INFO:gurobipy:     0     0 3606.82386    0  282 3608.71335 3606.82386  0.05%     -    3s\n"
     ]
    },
    {
     "name": "stdout",
     "output_type": "stream",
     "text": [
      "     0     0 3606.82402    0  265 3608.71335 3606.82402  0.05%     -    3s\n"
     ]
    },
    {
     "name": "stderr",
     "output_type": "stream",
     "text": [
      "INFO:gurobipy:     0     0 3606.82402    0  265 3608.71335 3606.82402  0.05%     -    3s\n"
     ]
    },
    {
     "name": "stdout",
     "output_type": "stream",
     "text": [
      "     0     2 3606.82417    0  264 3608.71335 3606.82417  0.05%     -    4s\n"
     ]
    },
    {
     "name": "stderr",
     "output_type": "stream",
     "text": [
      "INFO:gurobipy:     0     2 3606.82417    0  264 3608.71335 3606.82417  0.05%     -    4s\n"
     ]
    },
    {
     "name": "stdout",
     "output_type": "stream",
     "text": [
      "H   26    26                    3608.6437591 3606.82417  0.05%   3.7    4s\n"
     ]
    },
    {
     "name": "stderr",
     "output_type": "stream",
     "text": [
      "INFO:gurobipy:H   26    26                    3608.6437591 3606.82417  0.05%   3.7    4s\n"
     ]
    },
    {
     "name": "stdout",
     "output_type": "stream",
     "text": [
      "H   54    54                    3608.4921008 3606.82417  0.05%   4.0    5s\n"
     ]
    },
    {
     "name": "stderr",
     "output_type": "stream",
     "text": [
      "INFO:gurobipy:H   54    54                    3608.4921008 3606.82417  0.05%   4.0    5s\n"
     ]
    },
    {
     "name": "stdout",
     "output_type": "stream",
     "text": [
      "H  297   297                    3608.4910346 3606.82417  0.05%   4.3    6s\n"
     ]
    },
    {
     "name": "stderr",
     "output_type": "stream",
     "text": [
      "INFO:gurobipy:H  297   297                    3608.4910346 3606.82417  0.05%   4.3    6s\n"
     ]
    },
    {
     "name": "stdout",
     "output_type": "stream",
     "text": [
      "H  351   351                    3608.4632622 3606.82417  0.05%   4.8    7s\n"
     ]
    },
    {
     "name": "stderr",
     "output_type": "stream",
     "text": [
      "INFO:gurobipy:H  351   351                    3608.4632622 3606.82417  0.05%   4.8    7s\n"
     ]
    },
    {
     "name": "stdout",
     "output_type": "stream",
     "text": [
      "H  378   378                    3608.4050739 3606.82417  0.04%   4.9    7s\n"
     ]
    },
    {
     "name": "stderr",
     "output_type": "stream",
     "text": [
      "INFO:gurobipy:H  378   378                    3608.4050739 3606.82417  0.04%   4.9    7s\n"
     ]
    },
    {
     "name": "stdout",
     "output_type": "stream",
     "text": [
      "H  459   459                    3608.3934746 3606.82417  0.04%   4.9    7s\n"
     ]
    },
    {
     "name": "stderr",
     "output_type": "stream",
     "text": [
      "INFO:gurobipy:H  459   459                    3608.3934746 3606.82417  0.04%   4.9    7s\n"
     ]
    },
    {
     "name": "stdout",
     "output_type": "stream",
     "text": [
      "H  486   486                    3608.3773879 3606.82417  0.04%   4.9    7s\n"
     ]
    },
    {
     "name": "stderr",
     "output_type": "stream",
     "text": [
      "INFO:gurobipy:H  486   486                    3608.3773879 3606.82417  0.04%   4.9    7s\n"
     ]
    },
    {
     "name": "stdout",
     "output_type": "stream",
     "text": [
      "H  540   540                    3608.3772128 3606.82417  0.04%   5.4    8s\n"
     ]
    },
    {
     "name": "stderr",
     "output_type": "stream",
     "text": [
      "INFO:gurobipy:H  540   540                    3608.3772128 3606.82417  0.04%   5.4    8s\n"
     ]
    },
    {
     "name": "stdout",
     "output_type": "stream",
     "text": [
      "*  646   606             449    3608.1902263 3606.82417  0.04%   5.1    8s\n"
     ]
    },
    {
     "name": "stderr",
     "output_type": "stream",
     "text": [
      "INFO:gurobipy:*  646   606             449    3608.1902263 3606.82417  0.04%   5.1    8s\n"
     ]
    },
    {
     "name": "stdout",
     "output_type": "stream",
     "text": [
      "   651   606 3607.79957  253  265 3608.19023 3606.82418  0.04%   5.1   10s\n"
     ]
    },
    {
     "name": "stderr",
     "output_type": "stream",
     "text": [
      "INFO:gurobipy:   651   606 3607.79957  253  265 3608.19023 3606.82418  0.04%   5.1   10s\n"
     ]
    },
    {
     "name": "stdout",
     "output_type": "stream",
     "text": [
      "   680   625 3607.24393   41  169 3608.19023 3607.24393  0.03%   4.9   15s\n"
     ]
    },
    {
     "name": "stderr",
     "output_type": "stream",
     "text": [
      "INFO:gurobipy:   680   625 3607.24393   41  169 3608.19023 3607.24393  0.03%   4.9   15s\n"
     ]
    },
    {
     "name": "stdout",
     "output_type": "stream",
     "text": [
      "H  684   596                    3608.0325151 3607.25062  0.02%   4.9   16s\n"
     ]
    },
    {
     "name": "stderr",
     "output_type": "stream",
     "text": [
      "INFO:gurobipy:H  684   596                    3608.0325151 3607.25062  0.02%   4.9   16s\n"
     ]
    },
    {
     "name": "stdout",
     "output_type": "stream",
     "text": [
      "H  684   565                    3607.9519230 3607.25062  0.02%   4.9   16s\n"
     ]
    },
    {
     "name": "stderr",
     "output_type": "stream",
     "text": [
      "INFO:gurobipy:H  684   565                    3607.9519230 3607.25062  0.02%   4.9   16s\n"
     ]
    },
    {
     "name": "stdout",
     "output_type": "stream",
     "text": [
      "H  686   537                    3607.9518573 3607.25062  0.02%   4.8   16s\n"
     ]
    },
    {
     "name": "stderr",
     "output_type": "stream",
     "text": [
      "INFO:gurobipy:H  686   537                    3607.9518573 3607.25062  0.02%   4.8   16s\n"
     ]
    },
    {
     "name": "stdout",
     "output_type": "stream",
     "text": [
      "H  686   510                    3607.8657447 3607.25062  0.02%   4.8   16s\n"
     ]
    },
    {
     "name": "stderr",
     "output_type": "stream",
     "text": [
      "INFO:gurobipy:H  686   510                    3607.8657447 3607.25062  0.02%   4.8   16s\n"
     ]
    },
    {
     "name": "stdout",
     "output_type": "stream",
     "text": [
      "H  689   486                    3607.8655233 3607.25104  0.02%   4.8   17s\n"
     ]
    },
    {
     "name": "stderr",
     "output_type": "stream",
     "text": [
      "INFO:gurobipy:H  689   486                    3607.8655233 3607.25104  0.02%   4.8   17s\n"
     ]
    },
    {
     "name": "stdout",
     "output_type": "stream",
     "text": [
      "   705   498 3607.25148   10  166 3607.86552 3607.25148  0.02%  39.1   20s\n"
     ]
    },
    {
     "name": "stderr",
     "output_type": "stream",
     "text": [
      "INFO:gurobipy:   705   498 3607.25148   10  166 3607.86552 3607.25148  0.02%  39.1   20s\n"
     ]
    },
    {
     "name": "stdout",
     "output_type": "stream",
     "text": [
      "H  710   476                    3607.8477216 3607.26049  0.02%  38.9   21s\n"
     ]
    },
    {
     "name": "stderr",
     "output_type": "stream",
     "text": [
      "INFO:gurobipy:H  710   476                    3607.8477216 3607.26049  0.02%  38.9   21s\n"
     ]
    },
    {
     "name": "stdout",
     "output_type": "stream",
     "text": [
      "H  710   452                    3607.8461277 3607.26049  0.02%  38.9   21s\n"
     ]
    },
    {
     "name": "stderr",
     "output_type": "stream",
     "text": [
      "INFO:gurobipy:H  710   452                    3607.8461277 3607.26049  0.02%  38.9   21s\n"
     ]
    },
    {
     "name": "stdout",
     "output_type": "stream",
     "text": [
      "H  718   434                    3607.8436161 3607.26049  0.02%  38.4   23s\n"
     ]
    },
    {
     "name": "stderr",
     "output_type": "stream",
     "text": [
      "INFO:gurobipy:H  718   434                    3607.8436161 3607.26049  0.02%  38.4   23s\n"
     ]
    },
    {
     "name": "stdout",
     "output_type": "stream",
     "text": [
      "   720   435 3607.80632  262  145 3607.84362 3607.26059  0.02%  38.3   25s\n"
     ]
    },
    {
     "name": "stderr",
     "output_type": "stream",
     "text": [
      "INFO:gurobipy:   720   435 3607.80632  262  145 3607.84362 3607.26059  0.02%  38.3   25s\n"
     ]
    },
    {
     "name": "stdout",
     "output_type": "stream",
     "text": [
      "H  720   413                    3607.7941741 3607.26059  0.01%  38.3   25s\n"
     ]
    },
    {
     "name": "stderr",
     "output_type": "stream",
     "text": [
      "INFO:gurobipy:H  720   413                    3607.7941741 3607.26059  0.01%  38.3   25s\n"
     ]
    },
    {
     "name": "stdout",
     "output_type": "stream",
     "text": [
      "H  720   392                    3607.7462737 3607.26059  0.01%  38.3   25s\n"
     ]
    },
    {
     "name": "stderr",
     "output_type": "stream",
     "text": [
      "INFO:gurobipy:H  720   392                    3607.7462737 3607.26059  0.01%  38.3   25s\n"
     ]
    },
    {
     "name": "stdout",
     "output_type": "stream",
     "text": [
      "   846   467 3607.62291   88  128 3607.74627 3607.26322  0.01%  59.9   30s\n"
     ]
    },
    {
     "name": "stderr",
     "output_type": "stream",
     "text": [
      "INFO:gurobipy:   846   467 3607.62291   88  128 3607.74627 3607.26322  0.01%  59.9   30s\n"
     ]
    },
    {
     "name": "stdout",
     "output_type": "stream",
     "text": [
      "H  937   492                    3607.6890425 3607.26322  0.01%  54.9   32s\n"
     ]
    },
    {
     "name": "stderr",
     "output_type": "stream",
     "text": [
      "INFO:gurobipy:H  937   492                    3607.6890425 3607.26322  0.01%  54.9   32s\n"
     ]
    },
    {
     "name": "stdout",
     "output_type": "stream",
     "text": [
      "H  964   482                    3607.6799387 3607.26322  0.01%  53.6   33s\n"
     ]
    },
    {
     "name": "stderr",
     "output_type": "stream",
     "text": [
      "INFO:gurobipy:H  964   482                    3607.6799387 3607.26322  0.01%  53.6   33s\n"
     ]
    },
    {
     "name": "stdout",
     "output_type": "stream",
     "text": [
      "H  971   459                    3607.6414378 3607.26322  0.01%  53.3   34s\n"
     ]
    },
    {
     "name": "stderr",
     "output_type": "stream",
     "text": [
      "INFO:gurobipy:H  971   459                    3607.6414378 3607.26322  0.01%  53.3   34s\n"
     ]
    },
    {
     "name": "stdout",
     "output_type": "stream",
     "text": [
      "H  991   449                    3607.6337735 3607.26322  0.01%  52.3   34s\n"
     ]
    },
    {
     "name": "stderr",
     "output_type": "stream",
     "text": [
      "INFO:gurobipy:H  991   449                    3607.6337735 3607.26322  0.01%  52.3   34s\n"
     ]
    },
    {
     "name": "stdout",
     "output_type": "stream",
     "text": [
      "   994   452 3607.58708  166   36 3607.63377 3607.26322  0.01%  52.2   35s\n"
     ]
    },
    {
     "name": "stderr",
     "output_type": "stream",
     "text": [
      "INFO:gurobipy:   994   452 3607.58708  166   36 3607.63377 3607.26322  0.01%  52.2   35s\n"
     ]
    },
    {
     "name": "stdout",
     "output_type": "stream",
     "text": [
      "* 1062   431             200    3607.5818704 3607.26322  0.01%  49.1   36s\n"
     ]
    },
    {
     "name": "stderr",
     "output_type": "stream",
     "text": [
      "INFO:gurobipy:* 1062   431             200    3607.5818704 3607.26322  0.01%  49.1   36s\n"
     ]
    },
    {
     "name": "stdout",
     "output_type": "stream",
     "text": [
      "\n"
     ]
    },
    {
     "name": "stderr",
     "output_type": "stream",
     "text": [
      "INFO:gurobipy:\n"
     ]
    },
    {
     "name": "stdout",
     "output_type": "stream",
     "text": [
      "Cutting planes:\n"
     ]
    },
    {
     "name": "stderr",
     "output_type": "stream",
     "text": [
      "INFO:gurobipy:Cutting planes:\n"
     ]
    },
    {
     "name": "stdout",
     "output_type": "stream",
     "text": [
      "  Gomory: 131\n"
     ]
    },
    {
     "name": "stderr",
     "output_type": "stream",
     "text": [
      "INFO:gurobipy:  Gomory: 131\n"
     ]
    },
    {
     "name": "stdout",
     "output_type": "stream",
     "text": [
      "  Cover: 7\n"
     ]
    },
    {
     "name": "stderr",
     "output_type": "stream",
     "text": [
      "INFO:gurobipy:  Cover: 7\n"
     ]
    },
    {
     "name": "stdout",
     "output_type": "stream",
     "text": [
      "  Implied bound: 162\n"
     ]
    },
    {
     "name": "stderr",
     "output_type": "stream",
     "text": [
      "INFO:gurobipy:  Implied bound: 162\n"
     ]
    },
    {
     "name": "stdout",
     "output_type": "stream",
     "text": [
      "  Projected implied bound: 21\n"
     ]
    },
    {
     "name": "stderr",
     "output_type": "stream",
     "text": [
      "INFO:gurobipy:  Projected implied bound: 21\n"
     ]
    },
    {
     "name": "stdout",
     "output_type": "stream",
     "text": [
      "  Clique: 1\n"
     ]
    },
    {
     "name": "stderr",
     "output_type": "stream",
     "text": [
      "INFO:gurobipy:  Clique: 1\n"
     ]
    },
    {
     "name": "stdout",
     "output_type": "stream",
     "text": [
      "  MIR: 470\n"
     ]
    },
    {
     "name": "stderr",
     "output_type": "stream",
     "text": [
      "INFO:gurobipy:  MIR: 470\n"
     ]
    },
    {
     "name": "stdout",
     "output_type": "stream",
     "text": [
      "  Mixing: 19\n"
     ]
    },
    {
     "name": "stderr",
     "output_type": "stream",
     "text": [
      "INFO:gurobipy:  Mixing: 19\n"
     ]
    },
    {
     "name": "stdout",
     "output_type": "stream",
     "text": [
      "  Flow cover: 1334\n"
     ]
    },
    {
     "name": "stderr",
     "output_type": "stream",
     "text": [
      "INFO:gurobipy:  Flow cover: 1334\n"
     ]
    },
    {
     "name": "stdout",
     "output_type": "stream",
     "text": [
      "  RLT: 165\n"
     ]
    },
    {
     "name": "stderr",
     "output_type": "stream",
     "text": [
      "INFO:gurobipy:  RLT: 165\n"
     ]
    },
    {
     "name": "stdout",
     "output_type": "stream",
     "text": [
      "  Relax-and-lift: 73\n"
     ]
    },
    {
     "name": "stderr",
     "output_type": "stream",
     "text": [
      "INFO:gurobipy:  Relax-and-lift: 73\n"
     ]
    },
    {
     "name": "stdout",
     "output_type": "stream",
     "text": [
      "\n"
     ]
    },
    {
     "name": "stderr",
     "output_type": "stream",
     "text": [
      "INFO:gurobipy:\n"
     ]
    },
    {
     "name": "stdout",
     "output_type": "stream",
     "text": [
      "Explored 1063 nodes (77493 simplex iterations) in 36.06 seconds (39.93 work units)\n"
     ]
    },
    {
     "name": "stderr",
     "output_type": "stream",
     "text": [
      "INFO:gurobipy:Explored 1063 nodes (77493 simplex iterations) in 36.06 seconds (39.93 work units)\n"
     ]
    },
    {
     "name": "stdout",
     "output_type": "stream",
     "text": [
      "Thread count was 1 (of 16 available processors)\n"
     ]
    },
    {
     "name": "stderr",
     "output_type": "stream",
     "text": [
      "INFO:gurobipy:Thread count was 1 (of 16 available processors)\n"
     ]
    },
    {
     "name": "stdout",
     "output_type": "stream",
     "text": [
      "\n"
     ]
    },
    {
     "name": "stderr",
     "output_type": "stream",
     "text": [
      "INFO:gurobipy:\n"
     ]
    },
    {
     "name": "stdout",
     "output_type": "stream",
     "text": [
      "Solution count 10: 3607.58 3607.63 3607.64 ... 3607.85\n"
     ]
    },
    {
     "name": "stderr",
     "output_type": "stream",
     "text": [
      "INFO:gurobipy:Solution count 10: 3607.58 3607.63 3607.64 ... 3607.85\n"
     ]
    },
    {
     "name": "stdout",
     "output_type": "stream",
     "text": [
      "\n"
     ]
    },
    {
     "name": "stderr",
     "output_type": "stream",
     "text": [
      "INFO:gurobipy:\n"
     ]
    },
    {
     "name": "stdout",
     "output_type": "stream",
     "text": [
      "Optimal solution found (tolerance 1.00e-04)\n"
     ]
    },
    {
     "name": "stderr",
     "output_type": "stream",
     "text": [
      "INFO:gurobipy:Optimal solution found (tolerance 1.00e-04)\n"
     ]
    },
    {
     "name": "stdout",
     "output_type": "stream",
     "text": [
      "Warning: max constraint violation (3.6727e-06) exceeds tolerance\n"
     ]
    },
    {
     "name": "stderr",
     "output_type": "stream",
     "text": [
      "INFO:gurobipy:Warning: max constraint violation (3.6727e-06) exceeds tolerance\n"
     ]
    },
    {
     "name": "stdout",
     "output_type": "stream",
     "text": [
      "Best objective 3.607581868466e+03, best bound 3.607263223205e+03, gap 0.0088%\n"
     ]
    },
    {
     "name": "stderr",
     "output_type": "stream",
     "text": [
      "INFO:gurobipy:Best objective 3.607581868466e+03, best bound 3.607263223205e+03, gap 0.0088%\n",
      "WARNING:linopy.solvers:Dual values of MILP couldn't be parsed\n",
      "INFO:linopy.constants: Optimization successful: \n",
      "Status: ok\n",
      "Termination condition: optimal\n",
      "Solution: 96362 primals, 0 duals\n",
      "Objective: 3.61e+03\n",
      "Solver model: available\n",
      "Solver message: 2\n",
      "\n",
      "INFO:pypsa.optimization.optimize:No shadow prices were assigned to the network.\n"
     ]
    },
    {
     "data": {
      "text/plain": [
       "('ok', 'optimal')"
      ]
     },
     "execution_count": 25,
     "metadata": {},
     "output_type": "execute_result"
    }
   ],
   "execution_count": 25
  },
  {
   "cell_type": "markdown",
   "id": "b4f61cc3-2456-44f8-8875-3b51dbaf6854",
   "metadata": {},
   "source": [
    "Erzeugen Sie sich erneut eine Kopie des Netzwerks als Modell und fügen die notwendigen Nebenbedingungen hinzu"
   ]
  },
  {
   "cell_type": "code",
   "id": "5511786c-836c-4c14-9735-19177d387118",
   "metadata": {
    "ExecuteTime": {
     "end_time": "2025-08-28T16:07:08.018017Z",
     "start_time": "2025-08-28T16:07:08.014013Z"
    }
   },
   "source": [
    "print(\"Genutzte Dachfläche:\",round(network.generators.p_nom_opt.PV / pv_p_per_m2 + network.generators.p_nom_opt.collector / col_p_per_m2,2),\"m2\")\n",
    "print(\"Nicht-EE-Anteil:\",round(network.generators_t.p.boiler.sum() / df_data[\"heat_load\"].sum()*100,2),\"%\")\n"
   ],
   "outputs": [
    {
     "name": "stdout",
     "output_type": "stream",
     "text": [
      "Genutzte Dachfläche: 20.0 m2\n",
      "Nicht-EE-Anteil: 35.0 %\n"
     ]
    }
   ],
   "execution_count": 26
  },
  {
   "cell_type": "markdown",
   "id": "b83153b6-7792-44a1-b5c6-e1704dae3efe",
   "metadata": {},
   "source": [
    "Überprüfen Sie ob die Nebenbedingungen eingehalten wurden und lassen Sie sich die Leistung der Wärmepumpe und des Heizstabs plotten"
   ]
  },
  {
   "cell_type": "code",
   "id": "828ef158-1166-412d-9a22-8b04cdaedaba",
   "metadata": {
    "ExecuteTime": {
     "end_time": "2025-08-28T16:07:08.223273Z",
     "start_time": "2025-08-28T16:07:08.066101Z"
    }
   },
   "source": [
    "network.links_t.p0.loc[:,[\"heating_rod\",\"heatpump\"]].plot(alpha=0.5)"
   ],
   "outputs": [
    {
     "data": {
      "text/plain": [
       "<Axes: xlabel='snapshot'>"
      ]
     },
     "execution_count": 27,
     "metadata": {},
     "output_type": "execute_result"
    },
    {
     "data": {
      "text/plain": [
       "<Figure size 640x480 with 1 Axes>"
      ],
      "image/png": "[encoded data removed]"
     },
     "metadata": {},
     "output_type": "display_data"
    }
   ],
   "execution_count": 27
  }
 ],
 "metadata": {
  "kernelspec": {
   "display_name": "Python [conda env:base] *",
   "language": "python",
   "name": "conda-base-py"
  },
  "language_info": {
   "codemirror_mode": {
    "name": "ipython",
    "version": 3
   },
   "file_extension": ".py",
   "mimetype": "text/x-python",
   "name": "python",
   "nbconvert_exporter": "python",
   "pygments_lexer": "ipython3",
   "version": "3.12.8"
  }
 },
 "nbformat": 4,
 "nbformat_minor": 5
}
